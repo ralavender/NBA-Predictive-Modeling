{
 "cells": [
  {
   "cell_type": "code",
   "execution_count": 1,
   "id": "bc78df11-ba1e-4e9a-9c56-ce22f152cbca",
   "metadata": {
    "tags": []
   },
   "outputs": [
    {
     "name": "stderr",
     "output_type": "stream",
     "text": [
      "C:\\Users\\ral\\anaconda3\\Lib\\site-packages\\pandas\\core\\arrays\\masked.py:60: UserWarning: Pandas requires version '1.3.6' or newer of 'bottleneck' (version '1.3.5' currently installed).\n",
      "  from pandas.core import (\n"
     ]
    }
   ],
   "source": [
    "import pandas as pd"
   ]
  },
  {
   "cell_type": "code",
   "execution_count": 2,
   "id": "2c2c4df1-09a5-4e12-887d-3ddd09916642",
   "metadata": {
    "tags": []
   },
   "outputs": [],
   "source": [
    "import json\n",
    "from datetime import datetime"
   ]
  },
  {
   "cell_type": "code",
   "execution_count": 45,
   "id": "08439f4c-03c2-4538-ab96-14fb1788344c",
   "metadata": {
    "tags": []
   },
   "outputs": [],
   "source": [
    "df = pd.read_json('nba_betting/nba_betting_data.json')"
   ]
  },
  {
   "cell_type": "code",
   "execution_count": 46,
   "id": "c7cf1497-474f-4518-a773-17d900bab05c",
   "metadata": {
    "tags": []
   },
   "outputs": [],
   "source": [
    "df = df.dropna(how=\"any\")"
   ]
  },
  {
   "cell_type": "code",
   "execution_count": 47,
   "id": "757c2784-dca2-45fb-90a4-b12836f3374b",
   "metadata": {
    "tags": []
   },
   "outputs": [],
   "source": [
    "df = df.drop_duplicates(keep='first')"
   ]
  },
  {
   "cell_type": "code",
   "execution_count": 48,
   "id": "f46acd34-a0eb-4ea0-9644-56db2f3f4aaf",
   "metadata": {
    "tags": []
   },
   "outputs": [
    {
     "data": {
      "text/html": [
       "<div>\n",
       "<style scoped>\n",
       "    .dataframe tbody tr th:only-of-type {\n",
       "        vertical-align: middle;\n",
       "    }\n",
       "\n",
       "    .dataframe tbody tr th {\n",
       "        vertical-align: top;\n",
       "    }\n",
       "\n",
       "    .dataframe thead th {\n",
       "        text-align: right;\n",
       "    }\n",
       "</style>\n",
       "<table border=\"1\" class=\"dataframe\">\n",
       "  <thead>\n",
       "    <tr style=\"text-align: right;\">\n",
       "      <th></th>\n",
       "      <th>team</th>\n",
       "      <th>season</th>\n",
       "      <th>date</th>\n",
       "      <th>matchup</th>\n",
       "      <th>final_score</th>\n",
       "      <th>spread_outcome</th>\n",
       "      <th>closing_spread</th>\n",
       "      <th>total_outcome</th>\n",
       "      <th>closing_total</th>\n",
       "    </tr>\n",
       "  </thead>\n",
       "  <tbody>\n",
       "    <tr>\n",
       "      <th>0</th>\n",
       "      <td>Boston Celtics</td>\n",
       "      <td>2024-25</td>\n",
       "      <td>Feb 26</td>\n",
       "      <td>@ DET</td>\n",
       "      <td>L 97-117</td>\n",
       "      <td>L</td>\n",
       "      <td>-4.5</td>\n",
       "      <td>U</td>\n",
       "      <td>224.0</td>\n",
       "    </tr>\n",
       "    <tr>\n",
       "      <th>1</th>\n",
       "      <td>Boston Celtics</td>\n",
       "      <td>2024-25</td>\n",
       "      <td>Feb 25</td>\n",
       "      <td>@ TOR</td>\n",
       "      <td>W 111-101</td>\n",
       "      <td>L</td>\n",
       "      <td>-11.0</td>\n",
       "      <td>U</td>\n",
       "      <td>226.5</td>\n",
       "    </tr>\n",
       "    <tr>\n",
       "      <th>2</th>\n",
       "      <td>Boston Celtics</td>\n",
       "      <td>2024-25</td>\n",
       "      <td>Feb 23</td>\n",
       "      <td>NY</td>\n",
       "      <td>W 118-105</td>\n",
       "      <td>W</td>\n",
       "      <td>-7.5</td>\n",
       "      <td>U</td>\n",
       "      <td>231.0</td>\n",
       "    </tr>\n",
       "    <tr>\n",
       "      <th>3</th>\n",
       "      <td>Boston Celtics</td>\n",
       "      <td>2024-25</td>\n",
       "      <td>Feb 20</td>\n",
       "      <td>@ PHI</td>\n",
       "      <td>W 124-104</td>\n",
       "      <td>W</td>\n",
       "      <td>-6.5</td>\n",
       "      <td>O</td>\n",
       "      <td>225.5</td>\n",
       "    </tr>\n",
       "    <tr>\n",
       "      <th>4</th>\n",
       "      <td>Boston Celtics</td>\n",
       "      <td>2024-25</td>\n",
       "      <td>Feb 12</td>\n",
       "      <td>SA</td>\n",
       "      <td>W 116-103</td>\n",
       "      <td>W</td>\n",
       "      <td>-8.0</td>\n",
       "      <td>U</td>\n",
       "      <td>229.5</td>\n",
       "    </tr>\n",
       "    <tr>\n",
       "      <th>...</th>\n",
       "      <td>...</td>\n",
       "      <td>...</td>\n",
       "      <td>...</td>\n",
       "      <td>...</td>\n",
       "      <td>...</td>\n",
       "      <td>...</td>\n",
       "      <td>...</td>\n",
       "      <td>...</td>\n",
       "      <td>...</td>\n",
       "    </tr>\n",
       "    <tr>\n",
       "      <th>61</th>\n",
       "      <td>Boston Celtics</td>\n",
       "      <td>2024-25</td>\n",
       "      <td>Oct 12</td>\n",
       "      <td>PHI</td>\n",
       "      <td>W 139-89</td>\n",
       "      <td>W</td>\n",
       "      <td>-7.5</td>\n",
       "      <td>O</td>\n",
       "      <td>222.5</td>\n",
       "    </tr>\n",
       "    <tr>\n",
       "      <th>62</th>\n",
       "      <td>Boston Celtics</td>\n",
       "      <td>2024-25</td>\n",
       "      <td>Oct 6</td>\n",
       "      <td>DEN</td>\n",
       "      <td>W 130-104</td>\n",
       "      <td>W</td>\n",
       "      <td>-2.5</td>\n",
       "      <td>O</td>\n",
       "      <td>216.5</td>\n",
       "    </tr>\n",
       "    <tr>\n",
       "      <th>63</th>\n",
       "      <td>Boston Celtics</td>\n",
       "      <td>2024-25</td>\n",
       "      <td>Oct 4</td>\n",
       "      <td>@ DEN</td>\n",
       "      <td>W 107-103</td>\n",
       "      <td>W</td>\n",
       "      <td>-1.0</td>\n",
       "      <td>U</td>\n",
       "      <td>217.5</td>\n",
       "    </tr>\n",
       "    <tr>\n",
       "      <th>82784</th>\n",
       "      <td>Boston Celtics</td>\n",
       "      <td>2024-25</td>\n",
       "      <td>Mar 2</td>\n",
       "      <td>DEN</td>\n",
       "      <td>W 110-103</td>\n",
       "      <td>W</td>\n",
       "      <td>-5.5</td>\n",
       "      <td>U</td>\n",
       "      <td>236.5</td>\n",
       "    </tr>\n",
       "    <tr>\n",
       "      <th>82785</th>\n",
       "      <td>Boston Celtics</td>\n",
       "      <td>2024-25</td>\n",
       "      <td>Feb 28</td>\n",
       "      <td>CLE</td>\n",
       "      <td>L 116-123</td>\n",
       "      <td>L</td>\n",
       "      <td>-1.0</td>\n",
       "      <td>O</td>\n",
       "      <td>233.0</td>\n",
       "    </tr>\n",
       "  </tbody>\n",
       "</table>\n",
       "<p>66 rows × 9 columns</p>\n",
       "</div>"
      ],
      "text/plain": [
       "                 team   season    date matchup final_score spread_outcome  \\\n",
       "0      Boston Celtics  2024-25  Feb 26   @ DET    L 97-117              L   \n",
       "1      Boston Celtics  2024-25  Feb 25   @ TOR   W 111-101              L   \n",
       "2      Boston Celtics  2024-25  Feb 23      NY   W 118-105              W   \n",
       "3      Boston Celtics  2024-25  Feb 20   @ PHI   W 124-104              W   \n",
       "4      Boston Celtics  2024-25  Feb 12      SA   W 116-103              W   \n",
       "...               ...      ...     ...     ...         ...            ...   \n",
       "61     Boston Celtics  2024-25  Oct 12     PHI    W 139-89              W   \n",
       "62     Boston Celtics  2024-25   Oct 6     DEN   W 130-104              W   \n",
       "63     Boston Celtics  2024-25   Oct 4   @ DEN   W 107-103              W   \n",
       "82784  Boston Celtics  2024-25   Mar 2     DEN   W 110-103              W   \n",
       "82785  Boston Celtics  2024-25  Feb 28     CLE   L 116-123              L   \n",
       "\n",
       "       closing_spread total_outcome  closing_total  \n",
       "0                -4.5             U          224.0  \n",
       "1               -11.0             U          226.5  \n",
       "2                -7.5             U          231.0  \n",
       "3                -6.5             O          225.5  \n",
       "4                -8.0             U          229.5  \n",
       "...               ...           ...            ...  \n",
       "61               -7.5             O          222.5  \n",
       "62               -2.5             O          216.5  \n",
       "63               -1.0             U          217.5  \n",
       "82784            -5.5             U          236.5  \n",
       "82785            -1.0             O          233.0  \n",
       "\n",
       "[66 rows x 9 columns]"
      ]
     },
     "execution_count": 48,
     "metadata": {},
     "output_type": "execute_result"
    }
   ],
   "source": [
    "df[(df.season==\"2024-25\") & (df.team==\"Boston Celtics\")]"
   ]
  },
  {
   "cell_type": "code",
   "execution_count": 49,
   "id": "024cea94-cb2f-49ed-8b93-87f82cccff6e",
   "metadata": {
    "tags": []
   },
   "outputs": [
    {
     "data": {
      "text/plain": [
       "(90, 9)"
      ]
     },
     "execution_count": 49,
     "metadata": {},
     "output_type": "execute_result"
    }
   ],
   "source": [
    "df[(df.season==\"2022-23\") & (df.team==\"Brooklyn Nets\")].shape"
   ]
  },
  {
   "cell_type": "code",
   "execution_count": 50,
   "id": "f2a65813-4f2f-451a-8970-08694f1849c0",
   "metadata": {
    "tags": []
   },
   "outputs": [],
   "source": [
    "df = df.rename(columns={'team': 'TEAM_NAME', 'date': 'GAME_DATE', 'matchup': 'MATCHUP', 'season': 'SEASON_YEAR'})"
   ]
  },
  {
   "cell_type": "code",
   "execution_count": 51,
   "id": "dbb5d111-acf2-42e5-b758-58544ad22028",
   "metadata": {},
   "outputs": [
    {
     "name": "stdout",
     "output_type": "stream",
     "text": [
      "(15124, 9)\n"
     ]
    },
    {
     "data": {
      "text/html": [
       "<div>\n",
       "<style scoped>\n",
       "    .dataframe tbody tr th:only-of-type {\n",
       "        vertical-align: middle;\n",
       "    }\n",
       "\n",
       "    .dataframe tbody tr th {\n",
       "        vertical-align: top;\n",
       "    }\n",
       "\n",
       "    .dataframe thead th {\n",
       "        text-align: right;\n",
       "    }\n",
       "</style>\n",
       "<table border=\"1\" class=\"dataframe\">\n",
       "  <thead>\n",
       "    <tr style=\"text-align: right;\">\n",
       "      <th></th>\n",
       "      <th>TEAM_NAME</th>\n",
       "      <th>SEASON_YEAR</th>\n",
       "      <th>GAME_DATE</th>\n",
       "      <th>MATCHUP</th>\n",
       "      <th>final_score</th>\n",
       "      <th>spread_outcome</th>\n",
       "      <th>closing_spread</th>\n",
       "      <th>total_outcome</th>\n",
       "      <th>closing_total</th>\n",
       "    </tr>\n",
       "  </thead>\n",
       "  <tbody>\n",
       "    <tr>\n",
       "      <th>0</th>\n",
       "      <td>Boston Celtics</td>\n",
       "      <td>2024-25</td>\n",
       "      <td>Feb 26</td>\n",
       "      <td>@ DET</td>\n",
       "      <td>L 97-117</td>\n",
       "      <td>L</td>\n",
       "      <td>-4.5</td>\n",
       "      <td>U</td>\n",
       "      <td>224.0</td>\n",
       "    </tr>\n",
       "    <tr>\n",
       "      <th>1</th>\n",
       "      <td>Boston Celtics</td>\n",
       "      <td>2024-25</td>\n",
       "      <td>Feb 25</td>\n",
       "      <td>@ TOR</td>\n",
       "      <td>W 111-101</td>\n",
       "      <td>L</td>\n",
       "      <td>-11.0</td>\n",
       "      <td>U</td>\n",
       "      <td>226.5</td>\n",
       "    </tr>\n",
       "    <tr>\n",
       "      <th>2</th>\n",
       "      <td>Boston Celtics</td>\n",
       "      <td>2024-25</td>\n",
       "      <td>Feb 23</td>\n",
       "      <td>NY</td>\n",
       "      <td>W 118-105</td>\n",
       "      <td>W</td>\n",
       "      <td>-7.5</td>\n",
       "      <td>U</td>\n",
       "      <td>231.0</td>\n",
       "    </tr>\n",
       "    <tr>\n",
       "      <th>3</th>\n",
       "      <td>Boston Celtics</td>\n",
       "      <td>2024-25</td>\n",
       "      <td>Feb 20</td>\n",
       "      <td>@ PHI</td>\n",
       "      <td>W 124-104</td>\n",
       "      <td>W</td>\n",
       "      <td>-6.5</td>\n",
       "      <td>O</td>\n",
       "      <td>225.5</td>\n",
       "    </tr>\n",
       "    <tr>\n",
       "      <th>4</th>\n",
       "      <td>Boston Celtics</td>\n",
       "      <td>2024-25</td>\n",
       "      <td>Feb 12</td>\n",
       "      <td>SA</td>\n",
       "      <td>W 116-103</td>\n",
       "      <td>W</td>\n",
       "      <td>-8.0</td>\n",
       "      <td>U</td>\n",
       "      <td>229.5</td>\n",
       "    </tr>\n",
       "  </tbody>\n",
       "</table>\n",
       "</div>"
      ],
      "text/plain": [
       "        TEAM_NAME SEASON_YEAR GAME_DATE MATCHUP final_score spread_outcome  \\\n",
       "0  Boston Celtics     2024-25    Feb 26   @ DET    L 97-117              L   \n",
       "1  Boston Celtics     2024-25    Feb 25   @ TOR   W 111-101              L   \n",
       "2  Boston Celtics     2024-25    Feb 23      NY   W 118-105              W   \n",
       "3  Boston Celtics     2024-25    Feb 20   @ PHI   W 124-104              W   \n",
       "4  Boston Celtics     2024-25    Feb 12      SA   W 116-103              W   \n",
       "\n",
       "   closing_spread total_outcome  closing_total  \n",
       "0            -4.5             U          224.0  \n",
       "1           -11.0             U          226.5  \n",
       "2            -7.5             U          231.0  \n",
       "3            -6.5             O          225.5  \n",
       "4            -8.0             U          229.5  "
      ]
     },
     "execution_count": 51,
     "metadata": {},
     "output_type": "execute_result"
    }
   ],
   "source": [
    "print(df.shape)\n",
    "df.head()"
   ]
  },
  {
   "cell_type": "code",
   "execution_count": 52,
   "id": "296d3ac8-ad1e-4d2f-a74f-968455ab8e48",
   "metadata": {
    "tags": []
   },
   "outputs": [],
   "source": [
    "df['TEAM_NAME'] = df['TEAM_NAME'].replace({'LA Clippers': 'Los Angeles Clippers'})"
   ]
  },
  {
   "cell_type": "code",
   "execution_count": 53,
   "id": "83e6782f-1e34-45a3-95cc-5b85aa4597ec",
   "metadata": {},
   "outputs": [],
   "source": [
    "def convert_date(row):\n",
    "    season = row['SEASON_YEAR']\n",
    "    date = row['GAME_DATE']\n",
    "    if season == '2024-25':\n",
    "        if 'Feb' in date or 'Jan' in date or 'Mar' in date:\n",
    "            return date + ' 2025'\n",
    "        else:\n",
    "            return date + ' 2024'\n",
    "        \n",
    "    elif season == '2023-24':\n",
    "        if 'Feb' in date or 'Jan' in date or 'Mar' in date or 'Apr' in date or 'May' in date or 'Jun' in date:\n",
    "            return date + ' 2024'\n",
    "        else:\n",
    "            return date + ' 2023'\n",
    "\n",
    "    elif season == '2022-23':\n",
    "        if 'Feb' in date or 'Jan' in date or 'Mar' in date or 'Apr' in date or 'May' in date or 'Jun' in date:\n",
    "            return date + ' 2023'\n",
    "        else:\n",
    "            return date + ' 2022'\n",
    "    \n",
    "    elif season == '2021-22':\n",
    "        if 'Feb' in date or 'Jan' in date or 'Mar' in date or 'Apr' in date or 'May' in date or 'Jun' in date:\n",
    "            return date + ' 2022'\n",
    "        else:\n",
    "            return date + ' 2021'\n",
    "        \n",
    "    elif season == '2020-21':\n",
    "        if 'Feb' in date or 'Jan' in date or 'Mar' in date or 'Apr' in date or 'May' in date or 'Jun' in date:\n",
    "            return date + ' 2021'\n",
    "        else:\n",
    "            return date + ' 2020'\n",
    "    \n",
    "    elif season == '2019-20':\n",
    "        if 'Feb' in date or 'Jan' in date or 'Mar' in date or 'Apr' in date or 'May' in date or 'Jun' in date:\n",
    "            return date + ' 2020'\n",
    "        else:\n",
    "            return date + ' 2019'"
   ]
  },
  {
   "cell_type": "code",
   "execution_count": 54,
   "id": "12164e32-ad47-4735-a545-88e365c57662",
   "metadata": {
    "tags": []
   },
   "outputs": [],
   "source": [
    "df['GAME_DATE'] = df.apply(convert_date, axis=1)"
   ]
  },
  {
   "cell_type": "code",
   "execution_count": 55,
   "id": "53484dc3-21ab-4ffe-867c-6d7408851c15",
   "metadata": {
    "tags": []
   },
   "outputs": [],
   "source": [
    "df['GAME_DATE'] = pd.to_datetime(df['GAME_DATE'], format='%b %d %Y')"
   ]
  },
  {
   "cell_type": "code",
   "execution_count": 56,
   "id": "59160f6f-9374-480e-a8b2-8b5007718dfd",
   "metadata": {
    "tags": []
   },
   "outputs": [
    {
     "data": {
      "text/html": [
       "<div>\n",
       "<style scoped>\n",
       "    .dataframe tbody tr th:only-of-type {\n",
       "        vertical-align: middle;\n",
       "    }\n",
       "\n",
       "    .dataframe tbody tr th {\n",
       "        vertical-align: top;\n",
       "    }\n",
       "\n",
       "    .dataframe thead th {\n",
       "        text-align: right;\n",
       "    }\n",
       "</style>\n",
       "<table border=\"1\" class=\"dataframe\">\n",
       "  <thead>\n",
       "    <tr style=\"text-align: right;\">\n",
       "      <th></th>\n",
       "      <th>SEASON_YEAR</th>\n",
       "      <th>GAME_DATE</th>\n",
       "      <th>TEAM_NAME</th>\n",
       "      <th>MATCHUP</th>\n",
       "      <th>final_score</th>\n",
       "      <th>spread_outcome</th>\n",
       "      <th>closing_spread</th>\n",
       "      <th>total_outcome</th>\n",
       "      <th>closing_total</th>\n",
       "    </tr>\n",
       "  </thead>\n",
       "  <tbody>\n",
       "    <tr>\n",
       "      <th>0</th>\n",
       "      <td>2024-25</td>\n",
       "      <td>2025-02-26</td>\n",
       "      <td>Boston Celtics</td>\n",
       "      <td>@ DET</td>\n",
       "      <td>L 97-117</td>\n",
       "      <td>L</td>\n",
       "      <td>-4.5</td>\n",
       "      <td>U</td>\n",
       "      <td>224.0</td>\n",
       "    </tr>\n",
       "    <tr>\n",
       "      <th>1</th>\n",
       "      <td>2024-25</td>\n",
       "      <td>2025-02-25</td>\n",
       "      <td>Boston Celtics</td>\n",
       "      <td>@ TOR</td>\n",
       "      <td>W 111-101</td>\n",
       "      <td>L</td>\n",
       "      <td>-11.0</td>\n",
       "      <td>U</td>\n",
       "      <td>226.5</td>\n",
       "    </tr>\n",
       "    <tr>\n",
       "      <th>2</th>\n",
       "      <td>2024-25</td>\n",
       "      <td>2025-02-23</td>\n",
       "      <td>Boston Celtics</td>\n",
       "      <td>NY</td>\n",
       "      <td>W 118-105</td>\n",
       "      <td>W</td>\n",
       "      <td>-7.5</td>\n",
       "      <td>U</td>\n",
       "      <td>231.0</td>\n",
       "    </tr>\n",
       "    <tr>\n",
       "      <th>3</th>\n",
       "      <td>2024-25</td>\n",
       "      <td>2025-02-20</td>\n",
       "      <td>Boston Celtics</td>\n",
       "      <td>@ PHI</td>\n",
       "      <td>W 124-104</td>\n",
       "      <td>W</td>\n",
       "      <td>-6.5</td>\n",
       "      <td>O</td>\n",
       "      <td>225.5</td>\n",
       "    </tr>\n",
       "    <tr>\n",
       "      <th>4</th>\n",
       "      <td>2024-25</td>\n",
       "      <td>2025-02-12</td>\n",
       "      <td>Boston Celtics</td>\n",
       "      <td>SA</td>\n",
       "      <td>W 116-103</td>\n",
       "      <td>W</td>\n",
       "      <td>-8.0</td>\n",
       "      <td>U</td>\n",
       "      <td>229.5</td>\n",
       "    </tr>\n",
       "  </tbody>\n",
       "</table>\n",
       "</div>"
      ],
      "text/plain": [
       "  SEASON_YEAR  GAME_DATE       TEAM_NAME MATCHUP final_score spread_outcome  \\\n",
       "0     2024-25 2025-02-26  Boston Celtics   @ DET    L 97-117              L   \n",
       "1     2024-25 2025-02-25  Boston Celtics   @ TOR   W 111-101              L   \n",
       "2     2024-25 2025-02-23  Boston Celtics      NY   W 118-105              W   \n",
       "3     2024-25 2025-02-20  Boston Celtics   @ PHI   W 124-104              W   \n",
       "4     2024-25 2025-02-12  Boston Celtics      SA   W 116-103              W   \n",
       "\n",
       "   closing_spread total_outcome  closing_total  \n",
       "0            -4.5             U          224.0  \n",
       "1           -11.0             U          226.5  \n",
       "2            -7.5             U          231.0  \n",
       "3            -6.5             O          225.5  \n",
       "4            -8.0             U          229.5  "
      ]
     },
     "execution_count": 56,
     "metadata": {},
     "output_type": "execute_result"
    }
   ],
   "source": [
    "order = ['SEASON_YEAR', 'GAME_DATE', 'TEAM_NAME', 'MATCHUP']\n",
    "other = [col for col in df.columns if col not in order]\n",
    "df = df[order + other]\n",
    "df.head()"
   ]
  },
  {
   "cell_type": "code",
   "execution_count": 57,
   "id": "4c0ae639-5719-41e3-8c12-077742c53fe4",
   "metadata": {
    "tags": []
   },
   "outputs": [],
   "source": [
    "def home_teams(row):\n",
    "    matchup = row['MATCHUP']\n",
    "    if matchup[0] == '@':\n",
    "        return matchup[2:]\n",
    "    else:\n",
    "        return row['TEAM_NAME']"
   ]
  },
  {
   "cell_type": "code",
   "execution_count": 58,
   "id": "06f6da25-846c-469f-9d06-16a5c575f211",
   "metadata": {
    "tags": []
   },
   "outputs": [],
   "source": [
    "df['H_TEAM_NAME'] = df.apply(home_teams, axis=1)"
   ]
  },
  {
   "cell_type": "code",
   "execution_count": 59,
   "id": "a3e542f6-06d1-4244-bd2a-0e5c0e62f328",
   "metadata": {
    "tags": []
   },
   "outputs": [],
   "source": [
    "def away_teams(row):\n",
    "    matchup = row['MATCHUP']\n",
    "    if matchup[0] == '@':\n",
    "        return row['TEAM_NAME']\n",
    "    else:\n",
    "        return matchup"
   ]
  },
  {
   "cell_type": "code",
   "execution_count": 60,
   "id": "7411b68d-7524-47a6-9f8e-1c18b7b2e819",
   "metadata": {
    "tags": []
   },
   "outputs": [],
   "source": [
    "df['A_TEAM_NAME'] = df.apply(away_teams, axis=1)"
   ]
  },
  {
   "cell_type": "code",
   "execution_count": 61,
   "id": "f77e86ec-8fac-4282-a49a-9d1b5cfc5f46",
   "metadata": {
    "tags": []
   },
   "outputs": [],
   "source": [
    "nba_team_abbreviation_mapping = {\n",
    "    \"Atlanta Hawks\": \"ATL\",\n",
    "    \"Boston Celtics\": \"BOS\",\n",
    "    \"Brooklyn Nets\": \"BKN\",\n",
    "    \"Charlotte Hornets\": \"CHA\",\n",
    "    \"Chicago Bulls\": \"CHI\",\n",
    "    \"Cleveland Cavaliers\": \"CLE\",\n",
    "    \"Dallas Mavericks\": \"DAL\",\n",
    "    \"Denver Nuggets\": \"DEN\",\n",
    "    \"Detroit Pistons\": \"DET\",\n",
    "    \"Golden State Warriors\": \"GSW\",\n",
    "    \"Houston Rockets\": \"HOU\",\n",
    "    \"Indiana Pacers\": \"IND\",\n",
    "    \"Los Angeles Clippers\": \"LAC\",\n",
    "    \"Los Angeles Lakers\": \"LAL\",\n",
    "    \"Memphis Grizzlies\": \"MEM\",\n",
    "    \"Miami Heat\": \"MIA\",\n",
    "    \"Milwaukee Bucks\": \"MIL\",\n",
    "    \"Minnesota Timberwolves\": \"MIN\",\n",
    "    \"New Orleans Pelicans\": \"NOP\",\n",
    "    \"New York Knicks\": \"NYK\",\n",
    "    \"Oklahoma City Thunder\": \"OKC\",\n",
    "    \"Orlando Magic\": \"ORL\",\n",
    "    \"Philadelphia 76ers\": \"PHI\",\n",
    "    \"Phoenix Suns\": \"PHX\",\n",
    "    \"Portland Trail Blazers\": \"POR\",\n",
    "    \"Sacramento Kings\": \"SAC\",\n",
    "    \"San Antonio Spurs\": \"SAS\",\n",
    "    \"Toronto Raptors\": \"TOR\",\n",
    "    \"Utah Jazz\": \"UTA\",\n",
    "    \"Washington Wizards\": \"WAS\"\n",
    "}\n"
   ]
  },
  {
   "cell_type": "code",
   "execution_count": 62,
   "id": "41828589-e697-4582-923a-0653a99e4780",
   "metadata": {
    "tags": []
   },
   "outputs": [
    {
     "data": {
      "text/html": [
       "<div>\n",
       "<style scoped>\n",
       "    .dataframe tbody tr th:only-of-type {\n",
       "        vertical-align: middle;\n",
       "    }\n",
       "\n",
       "    .dataframe tbody tr th {\n",
       "        vertical-align: top;\n",
       "    }\n",
       "\n",
       "    .dataframe thead th {\n",
       "        text-align: right;\n",
       "    }\n",
       "</style>\n",
       "<table border=\"1\" class=\"dataframe\">\n",
       "  <thead>\n",
       "    <tr style=\"text-align: right;\">\n",
       "      <th></th>\n",
       "      <th>SEASON_YEAR</th>\n",
       "      <th>GAME_DATE</th>\n",
       "      <th>TEAM_NAME</th>\n",
       "      <th>MATCHUP</th>\n",
       "      <th>final_score</th>\n",
       "      <th>spread_outcome</th>\n",
       "      <th>closing_spread</th>\n",
       "      <th>total_outcome</th>\n",
       "      <th>closing_total</th>\n",
       "      <th>H_TEAM_NAME</th>\n",
       "      <th>A_TEAM_NAME</th>\n",
       "    </tr>\n",
       "  </thead>\n",
       "  <tbody>\n",
       "    <tr>\n",
       "      <th>0</th>\n",
       "      <td>2024-25</td>\n",
       "      <td>2025-02-26</td>\n",
       "      <td>Boston Celtics</td>\n",
       "      <td>@ DET</td>\n",
       "      <td>L 97-117</td>\n",
       "      <td>L</td>\n",
       "      <td>-4.5</td>\n",
       "      <td>U</td>\n",
       "      <td>224.0</td>\n",
       "      <td>DET</td>\n",
       "      <td>BOS</td>\n",
       "    </tr>\n",
       "    <tr>\n",
       "      <th>1</th>\n",
       "      <td>2024-25</td>\n",
       "      <td>2025-02-25</td>\n",
       "      <td>Boston Celtics</td>\n",
       "      <td>@ TOR</td>\n",
       "      <td>W 111-101</td>\n",
       "      <td>L</td>\n",
       "      <td>-11.0</td>\n",
       "      <td>U</td>\n",
       "      <td>226.5</td>\n",
       "      <td>TOR</td>\n",
       "      <td>BOS</td>\n",
       "    </tr>\n",
       "    <tr>\n",
       "      <th>2</th>\n",
       "      <td>2024-25</td>\n",
       "      <td>2025-02-23</td>\n",
       "      <td>Boston Celtics</td>\n",
       "      <td>NY</td>\n",
       "      <td>W 118-105</td>\n",
       "      <td>W</td>\n",
       "      <td>-7.5</td>\n",
       "      <td>U</td>\n",
       "      <td>231.0</td>\n",
       "      <td>BOS</td>\n",
       "      <td>NY</td>\n",
       "    </tr>\n",
       "    <tr>\n",
       "      <th>3</th>\n",
       "      <td>2024-25</td>\n",
       "      <td>2025-02-20</td>\n",
       "      <td>Boston Celtics</td>\n",
       "      <td>@ PHI</td>\n",
       "      <td>W 124-104</td>\n",
       "      <td>W</td>\n",
       "      <td>-6.5</td>\n",
       "      <td>O</td>\n",
       "      <td>225.5</td>\n",
       "      <td>PHI</td>\n",
       "      <td>BOS</td>\n",
       "    </tr>\n",
       "    <tr>\n",
       "      <th>4</th>\n",
       "      <td>2024-25</td>\n",
       "      <td>2025-02-12</td>\n",
       "      <td>Boston Celtics</td>\n",
       "      <td>SA</td>\n",
       "      <td>W 116-103</td>\n",
       "      <td>W</td>\n",
       "      <td>-8.0</td>\n",
       "      <td>U</td>\n",
       "      <td>229.5</td>\n",
       "      <td>BOS</td>\n",
       "      <td>SA</td>\n",
       "    </tr>\n",
       "    <tr>\n",
       "      <th>...</th>\n",
       "      <td>...</td>\n",
       "      <td>...</td>\n",
       "      <td>...</td>\n",
       "      <td>...</td>\n",
       "      <td>...</td>\n",
       "      <td>...</td>\n",
       "      <td>...</td>\n",
       "      <td>...</td>\n",
       "      <td>...</td>\n",
       "      <td>...</td>\n",
       "      <td>...</td>\n",
       "    </tr>\n",
       "    <tr>\n",
       "      <th>156991</th>\n",
       "      <td>2024-25</td>\n",
       "      <td>2025-03-01</td>\n",
       "      <td>Philadelphia 76ers</td>\n",
       "      <td>GS</td>\n",
       "      <td>W 126-119</td>\n",
       "      <td>W</td>\n",
       "      <td>6.5</td>\n",
       "      <td>O</td>\n",
       "      <td>228.0</td>\n",
       "      <td>PHI</td>\n",
       "      <td>GS</td>\n",
       "    </tr>\n",
       "    <tr>\n",
       "      <th>160134</th>\n",
       "      <td>2024-25</td>\n",
       "      <td>2025-03-02</td>\n",
       "      <td>New York Knicks</td>\n",
       "      <td>@ MIA</td>\n",
       "      <td>W 116-112</td>\n",
       "      <td>L</td>\n",
       "      <td>-6.0</td>\n",
       "      <td>O</td>\n",
       "      <td>219.5</td>\n",
       "      <td>MIA</td>\n",
       "      <td>NYK</td>\n",
       "    </tr>\n",
       "    <tr>\n",
       "      <th>160190</th>\n",
       "      <td>2024-25</td>\n",
       "      <td>2025-02-28</td>\n",
       "      <td>New York Knicks</td>\n",
       "      <td>@ MEM</td>\n",
       "      <td>W 114-113</td>\n",
       "      <td>W</td>\n",
       "      <td>2.0</td>\n",
       "      <td>U</td>\n",
       "      <td>244.0</td>\n",
       "      <td>MEM</td>\n",
       "      <td>NYK</td>\n",
       "    </tr>\n",
       "    <tr>\n",
       "      <th>162243</th>\n",
       "      <td>2024-25</td>\n",
       "      <td>2025-03-01</td>\n",
       "      <td>Brooklyn Nets</td>\n",
       "      <td>@ DET</td>\n",
       "      <td>L 94-115</td>\n",
       "      <td>L</td>\n",
       "      <td>12.5</td>\n",
       "      <td>U</td>\n",
       "      <td>216.5</td>\n",
       "      <td>DET</td>\n",
       "      <td>BKN</td>\n",
       "    </tr>\n",
       "    <tr>\n",
       "      <th>162327</th>\n",
       "      <td>2024-25</td>\n",
       "      <td>2025-02-28</td>\n",
       "      <td>Brooklyn Nets</td>\n",
       "      <td>POR</td>\n",
       "      <td>L 102-121</td>\n",
       "      <td>L</td>\n",
       "      <td>1.5</td>\n",
       "      <td>O</td>\n",
       "      <td>221.0</td>\n",
       "      <td>BKN</td>\n",
       "      <td>POR</td>\n",
       "    </tr>\n",
       "  </tbody>\n",
       "</table>\n",
       "<p>15124 rows × 11 columns</p>\n",
       "</div>"
      ],
      "text/plain": [
       "       SEASON_YEAR  GAME_DATE           TEAM_NAME MATCHUP final_score  \\\n",
       "0          2024-25 2025-02-26      Boston Celtics   @ DET    L 97-117   \n",
       "1          2024-25 2025-02-25      Boston Celtics   @ TOR   W 111-101   \n",
       "2          2024-25 2025-02-23      Boston Celtics      NY   W 118-105   \n",
       "3          2024-25 2025-02-20      Boston Celtics   @ PHI   W 124-104   \n",
       "4          2024-25 2025-02-12      Boston Celtics      SA   W 116-103   \n",
       "...            ...        ...                 ...     ...         ...   \n",
       "156991     2024-25 2025-03-01  Philadelphia 76ers      GS   W 126-119   \n",
       "160134     2024-25 2025-03-02     New York Knicks   @ MIA   W 116-112   \n",
       "160190     2024-25 2025-02-28     New York Knicks   @ MEM   W 114-113   \n",
       "162243     2024-25 2025-03-01       Brooklyn Nets   @ DET    L 94-115   \n",
       "162327     2024-25 2025-02-28       Brooklyn Nets     POR   L 102-121   \n",
       "\n",
       "       spread_outcome  closing_spread total_outcome  closing_total  \\\n",
       "0                   L            -4.5             U          224.0   \n",
       "1                   L           -11.0             U          226.5   \n",
       "2                   W            -7.5             U          231.0   \n",
       "3                   W            -6.5             O          225.5   \n",
       "4                   W            -8.0             U          229.5   \n",
       "...               ...             ...           ...            ...   \n",
       "156991              W             6.5             O          228.0   \n",
       "160134              L            -6.0             O          219.5   \n",
       "160190              W             2.0             U          244.0   \n",
       "162243              L            12.5             U          216.5   \n",
       "162327              L             1.5             O          221.0   \n",
       "\n",
       "       H_TEAM_NAME A_TEAM_NAME  \n",
       "0              DET         BOS  \n",
       "1              TOR         BOS  \n",
       "2              BOS          NY  \n",
       "3              PHI         BOS  \n",
       "4              BOS          SA  \n",
       "...            ...         ...  \n",
       "156991         PHI          GS  \n",
       "160134         MIA         NYK  \n",
       "160190         MEM         NYK  \n",
       "162243         DET         BKN  \n",
       "162327         BKN         POR  \n",
       "\n",
       "[15124 rows x 11 columns]"
      ]
     },
     "execution_count": 62,
     "metadata": {},
     "output_type": "execute_result"
    }
   ],
   "source": [
    "df[\"H_TEAM_NAME\"] = df[\"H_TEAM_NAME\"].replace(nba_team_abbreviation_mapping)\n",
    "df[\"A_TEAM_NAME\"] = df[\"A_TEAM_NAME\"].replace(nba_team_abbreviation_mapping)\n",
    "df"
   ]
  },
  {
   "cell_type": "code",
   "execution_count": 63,
   "id": "41f8a13f-bd6c-490d-b127-556bd614c95a",
   "metadata": {
    "tags": []
   },
   "outputs": [
    {
     "data": {
      "text/plain": [
       "array(['BOS', 'NY', 'SA', 'DAL', 'CHI', 'HOU', 'ATL', 'ORL', 'NO', 'SAC',\n",
       "       'TOR', 'IND', 'PHI', 'DET', 'MEM', 'MIL', 'MIA', 'LAC', 'MIN',\n",
       "       'CLE', 'BK', 'GS', 'DEN', 'BKN', 'UTA', 'CHA', 'PHO', 'WAS', 'LAL',\n",
       "       'OKC', 'POR', 'SAS', 'NOP', 'PHX', 'GSW', 'NYK'], dtype=object)"
      ]
     },
     "execution_count": 63,
     "metadata": {},
     "output_type": "execute_result"
    }
   ],
   "source": [
    "df.A_TEAM_NAME.unique()"
   ]
  },
  {
   "cell_type": "code",
   "execution_count": 64,
   "id": "94652d08-b70c-4cfc-9574-726bfe1574fd",
   "metadata": {
    "tags": []
   },
   "outputs": [],
   "source": [
    "fixed_map = {\n",
    "    'NY': 'NYK',\n",
    "    'NO': 'NOP',\n",
    "    'PHO': 'PHX',\n",
    "    'SA': 'SAS',\n",
    "    'GS': 'GSW',\n",
    "    'BK': 'BKN'\n",
    "}"
   ]
  },
  {
   "cell_type": "code",
   "execution_count": 65,
   "id": "56ebd454-5cee-4636-b4a7-768c37c52cc2",
   "metadata": {
    "tags": []
   },
   "outputs": [
    {
     "data": {
      "text/html": [
       "<div>\n",
       "<style scoped>\n",
       "    .dataframe tbody tr th:only-of-type {\n",
       "        vertical-align: middle;\n",
       "    }\n",
       "\n",
       "    .dataframe tbody tr th {\n",
       "        vertical-align: top;\n",
       "    }\n",
       "\n",
       "    .dataframe thead th {\n",
       "        text-align: right;\n",
       "    }\n",
       "</style>\n",
       "<table border=\"1\" class=\"dataframe\">\n",
       "  <thead>\n",
       "    <tr style=\"text-align: right;\">\n",
       "      <th></th>\n",
       "      <th>SEASON_YEAR</th>\n",
       "      <th>GAME_DATE</th>\n",
       "      <th>TEAM_NAME</th>\n",
       "      <th>MATCHUP</th>\n",
       "      <th>final_score</th>\n",
       "      <th>spread_outcome</th>\n",
       "      <th>closing_spread</th>\n",
       "      <th>total_outcome</th>\n",
       "      <th>closing_total</th>\n",
       "      <th>H_TEAM_NAME</th>\n",
       "      <th>A_TEAM_NAME</th>\n",
       "    </tr>\n",
       "  </thead>\n",
       "  <tbody>\n",
       "    <tr>\n",
       "      <th>0</th>\n",
       "      <td>2024-25</td>\n",
       "      <td>2025-02-26</td>\n",
       "      <td>Boston Celtics</td>\n",
       "      <td>@ DET</td>\n",
       "      <td>L 97-117</td>\n",
       "      <td>L</td>\n",
       "      <td>-4.5</td>\n",
       "      <td>U</td>\n",
       "      <td>224.0</td>\n",
       "      <td>DET</td>\n",
       "      <td>BOS</td>\n",
       "    </tr>\n",
       "    <tr>\n",
       "      <th>1</th>\n",
       "      <td>2024-25</td>\n",
       "      <td>2025-02-25</td>\n",
       "      <td>Boston Celtics</td>\n",
       "      <td>@ TOR</td>\n",
       "      <td>W 111-101</td>\n",
       "      <td>L</td>\n",
       "      <td>-11.0</td>\n",
       "      <td>U</td>\n",
       "      <td>226.5</td>\n",
       "      <td>TOR</td>\n",
       "      <td>BOS</td>\n",
       "    </tr>\n",
       "    <tr>\n",
       "      <th>2</th>\n",
       "      <td>2024-25</td>\n",
       "      <td>2025-02-23</td>\n",
       "      <td>Boston Celtics</td>\n",
       "      <td>NY</td>\n",
       "      <td>W 118-105</td>\n",
       "      <td>W</td>\n",
       "      <td>-7.5</td>\n",
       "      <td>U</td>\n",
       "      <td>231.0</td>\n",
       "      <td>BOS</td>\n",
       "      <td>NYK</td>\n",
       "    </tr>\n",
       "    <tr>\n",
       "      <th>3</th>\n",
       "      <td>2024-25</td>\n",
       "      <td>2025-02-20</td>\n",
       "      <td>Boston Celtics</td>\n",
       "      <td>@ PHI</td>\n",
       "      <td>W 124-104</td>\n",
       "      <td>W</td>\n",
       "      <td>-6.5</td>\n",
       "      <td>O</td>\n",
       "      <td>225.5</td>\n",
       "      <td>PHI</td>\n",
       "      <td>BOS</td>\n",
       "    </tr>\n",
       "    <tr>\n",
       "      <th>4</th>\n",
       "      <td>2024-25</td>\n",
       "      <td>2025-02-12</td>\n",
       "      <td>Boston Celtics</td>\n",
       "      <td>SA</td>\n",
       "      <td>W 116-103</td>\n",
       "      <td>W</td>\n",
       "      <td>-8.0</td>\n",
       "      <td>U</td>\n",
       "      <td>229.5</td>\n",
       "      <td>BOS</td>\n",
       "      <td>SAS</td>\n",
       "    </tr>\n",
       "    <tr>\n",
       "      <th>...</th>\n",
       "      <td>...</td>\n",
       "      <td>...</td>\n",
       "      <td>...</td>\n",
       "      <td>...</td>\n",
       "      <td>...</td>\n",
       "      <td>...</td>\n",
       "      <td>...</td>\n",
       "      <td>...</td>\n",
       "      <td>...</td>\n",
       "      <td>...</td>\n",
       "      <td>...</td>\n",
       "    </tr>\n",
       "    <tr>\n",
       "      <th>156991</th>\n",
       "      <td>2024-25</td>\n",
       "      <td>2025-03-01</td>\n",
       "      <td>Philadelphia 76ers</td>\n",
       "      <td>GS</td>\n",
       "      <td>W 126-119</td>\n",
       "      <td>W</td>\n",
       "      <td>6.5</td>\n",
       "      <td>O</td>\n",
       "      <td>228.0</td>\n",
       "      <td>PHI</td>\n",
       "      <td>GSW</td>\n",
       "    </tr>\n",
       "    <tr>\n",
       "      <th>160134</th>\n",
       "      <td>2024-25</td>\n",
       "      <td>2025-03-02</td>\n",
       "      <td>New York Knicks</td>\n",
       "      <td>@ MIA</td>\n",
       "      <td>W 116-112</td>\n",
       "      <td>L</td>\n",
       "      <td>-6.0</td>\n",
       "      <td>O</td>\n",
       "      <td>219.5</td>\n",
       "      <td>MIA</td>\n",
       "      <td>NYK</td>\n",
       "    </tr>\n",
       "    <tr>\n",
       "      <th>160190</th>\n",
       "      <td>2024-25</td>\n",
       "      <td>2025-02-28</td>\n",
       "      <td>New York Knicks</td>\n",
       "      <td>@ MEM</td>\n",
       "      <td>W 114-113</td>\n",
       "      <td>W</td>\n",
       "      <td>2.0</td>\n",
       "      <td>U</td>\n",
       "      <td>244.0</td>\n",
       "      <td>MEM</td>\n",
       "      <td>NYK</td>\n",
       "    </tr>\n",
       "    <tr>\n",
       "      <th>162243</th>\n",
       "      <td>2024-25</td>\n",
       "      <td>2025-03-01</td>\n",
       "      <td>Brooklyn Nets</td>\n",
       "      <td>@ DET</td>\n",
       "      <td>L 94-115</td>\n",
       "      <td>L</td>\n",
       "      <td>12.5</td>\n",
       "      <td>U</td>\n",
       "      <td>216.5</td>\n",
       "      <td>DET</td>\n",
       "      <td>BKN</td>\n",
       "    </tr>\n",
       "    <tr>\n",
       "      <th>162327</th>\n",
       "      <td>2024-25</td>\n",
       "      <td>2025-02-28</td>\n",
       "      <td>Brooklyn Nets</td>\n",
       "      <td>POR</td>\n",
       "      <td>L 102-121</td>\n",
       "      <td>L</td>\n",
       "      <td>1.5</td>\n",
       "      <td>O</td>\n",
       "      <td>221.0</td>\n",
       "      <td>BKN</td>\n",
       "      <td>POR</td>\n",
       "    </tr>\n",
       "  </tbody>\n",
       "</table>\n",
       "<p>15124 rows × 11 columns</p>\n",
       "</div>"
      ],
      "text/plain": [
       "       SEASON_YEAR  GAME_DATE           TEAM_NAME MATCHUP final_score  \\\n",
       "0          2024-25 2025-02-26      Boston Celtics   @ DET    L 97-117   \n",
       "1          2024-25 2025-02-25      Boston Celtics   @ TOR   W 111-101   \n",
       "2          2024-25 2025-02-23      Boston Celtics      NY   W 118-105   \n",
       "3          2024-25 2025-02-20      Boston Celtics   @ PHI   W 124-104   \n",
       "4          2024-25 2025-02-12      Boston Celtics      SA   W 116-103   \n",
       "...            ...        ...                 ...     ...         ...   \n",
       "156991     2024-25 2025-03-01  Philadelphia 76ers      GS   W 126-119   \n",
       "160134     2024-25 2025-03-02     New York Knicks   @ MIA   W 116-112   \n",
       "160190     2024-25 2025-02-28     New York Knicks   @ MEM   W 114-113   \n",
       "162243     2024-25 2025-03-01       Brooklyn Nets   @ DET    L 94-115   \n",
       "162327     2024-25 2025-02-28       Brooklyn Nets     POR   L 102-121   \n",
       "\n",
       "       spread_outcome  closing_spread total_outcome  closing_total  \\\n",
       "0                   L            -4.5             U          224.0   \n",
       "1                   L           -11.0             U          226.5   \n",
       "2                   W            -7.5             U          231.0   \n",
       "3                   W            -6.5             O          225.5   \n",
       "4                   W            -8.0             U          229.5   \n",
       "...               ...             ...           ...            ...   \n",
       "156991              W             6.5             O          228.0   \n",
       "160134              L            -6.0             O          219.5   \n",
       "160190              W             2.0             U          244.0   \n",
       "162243              L            12.5             U          216.5   \n",
       "162327              L             1.5             O          221.0   \n",
       "\n",
       "       H_TEAM_NAME A_TEAM_NAME  \n",
       "0              DET         BOS  \n",
       "1              TOR         BOS  \n",
       "2              BOS         NYK  \n",
       "3              PHI         BOS  \n",
       "4              BOS         SAS  \n",
       "...            ...         ...  \n",
       "156991         PHI         GSW  \n",
       "160134         MIA         NYK  \n",
       "160190         MEM         NYK  \n",
       "162243         DET         BKN  \n",
       "162327         BKN         POR  \n",
       "\n",
       "[15124 rows x 11 columns]"
      ]
     },
     "execution_count": 65,
     "metadata": {},
     "output_type": "execute_result"
    }
   ],
   "source": [
    "df[\"H_TEAM_NAME\"] = df[\"H_TEAM_NAME\"].replace(fixed_map)\n",
    "df[\"A_TEAM_NAME\"] = df[\"A_TEAM_NAME\"].replace(fixed_map)\n",
    "df"
   ]
  },
  {
   "cell_type": "code",
   "execution_count": 66,
   "id": "0d31631a-5ced-4b84-808d-60bad3910c58",
   "metadata": {
    "tags": []
   },
   "outputs": [],
   "source": [
    "df = df.drop(columns=['TEAM_NAME', 'MATCHUP'])"
   ]
  },
  {
   "cell_type": "code",
   "execution_count": 67,
   "id": "2cd7b1a1-a705-4781-b805-d7bb484bbded",
   "metadata": {
    "tags": []
   },
   "outputs": [],
   "source": [
    "df = df.rename(columns={\"H_TEAM_NAME\": \"H_TEAM_ABBREVIATION\", \"A_TEAM_NAME\": \"A_TEAM_ABBREVIATION\"})"
   ]
  },
  {
   "cell_type": "code",
   "execution_count": 68,
   "id": "e8834e97-ef3c-423f-b314-4c5686d45c68",
   "metadata": {
    "tags": []
   },
   "outputs": [
    {
     "data": {
      "text/html": [
       "<div>\n",
       "<style scoped>\n",
       "    .dataframe tbody tr th:only-of-type {\n",
       "        vertical-align: middle;\n",
       "    }\n",
       "\n",
       "    .dataframe tbody tr th {\n",
       "        vertical-align: top;\n",
       "    }\n",
       "\n",
       "    .dataframe thead th {\n",
       "        text-align: right;\n",
       "    }\n",
       "</style>\n",
       "<table border=\"1\" class=\"dataframe\">\n",
       "  <thead>\n",
       "    <tr style=\"text-align: right;\">\n",
       "      <th></th>\n",
       "      <th>SEASON_YEAR</th>\n",
       "      <th>GAME_DATE</th>\n",
       "      <th>H_TEAM_ABBREVIATION</th>\n",
       "      <th>A_TEAM_ABBREVIATION</th>\n",
       "      <th>final_score</th>\n",
       "      <th>spread_outcome</th>\n",
       "      <th>closing_spread</th>\n",
       "      <th>total_outcome</th>\n",
       "      <th>closing_total</th>\n",
       "    </tr>\n",
       "  </thead>\n",
       "  <tbody>\n",
       "    <tr>\n",
       "      <th>0</th>\n",
       "      <td>2024-25</td>\n",
       "      <td>2025-02-26</td>\n",
       "      <td>DET</td>\n",
       "      <td>BOS</td>\n",
       "      <td>L 97-117</td>\n",
       "      <td>L</td>\n",
       "      <td>-4.5</td>\n",
       "      <td>U</td>\n",
       "      <td>224.0</td>\n",
       "    </tr>\n",
       "    <tr>\n",
       "      <th>1</th>\n",
       "      <td>2024-25</td>\n",
       "      <td>2025-02-25</td>\n",
       "      <td>TOR</td>\n",
       "      <td>BOS</td>\n",
       "      <td>W 111-101</td>\n",
       "      <td>L</td>\n",
       "      <td>-11.0</td>\n",
       "      <td>U</td>\n",
       "      <td>226.5</td>\n",
       "    </tr>\n",
       "    <tr>\n",
       "      <th>2</th>\n",
       "      <td>2024-25</td>\n",
       "      <td>2025-02-23</td>\n",
       "      <td>BOS</td>\n",
       "      <td>NYK</td>\n",
       "      <td>W 118-105</td>\n",
       "      <td>W</td>\n",
       "      <td>-7.5</td>\n",
       "      <td>U</td>\n",
       "      <td>231.0</td>\n",
       "    </tr>\n",
       "    <tr>\n",
       "      <th>3</th>\n",
       "      <td>2024-25</td>\n",
       "      <td>2025-02-20</td>\n",
       "      <td>PHI</td>\n",
       "      <td>BOS</td>\n",
       "      <td>W 124-104</td>\n",
       "      <td>W</td>\n",
       "      <td>-6.5</td>\n",
       "      <td>O</td>\n",
       "      <td>225.5</td>\n",
       "    </tr>\n",
       "    <tr>\n",
       "      <th>4</th>\n",
       "      <td>2024-25</td>\n",
       "      <td>2025-02-12</td>\n",
       "      <td>BOS</td>\n",
       "      <td>SAS</td>\n",
       "      <td>W 116-103</td>\n",
       "      <td>W</td>\n",
       "      <td>-8.0</td>\n",
       "      <td>U</td>\n",
       "      <td>229.5</td>\n",
       "    </tr>\n",
       "  </tbody>\n",
       "</table>\n",
       "</div>"
      ],
      "text/plain": [
       "  SEASON_YEAR  GAME_DATE H_TEAM_ABBREVIATION A_TEAM_ABBREVIATION final_score  \\\n",
       "0     2024-25 2025-02-26                 DET                 BOS    L 97-117   \n",
       "1     2024-25 2025-02-25                 TOR                 BOS   W 111-101   \n",
       "2     2024-25 2025-02-23                 BOS                 NYK   W 118-105   \n",
       "3     2024-25 2025-02-20                 PHI                 BOS   W 124-104   \n",
       "4     2024-25 2025-02-12                 BOS                 SAS   W 116-103   \n",
       "\n",
       "  spread_outcome  closing_spread total_outcome  closing_total  \n",
       "0              L            -4.5             U          224.0  \n",
       "1              L           -11.0             U          226.5  \n",
       "2              W            -7.5             U          231.0  \n",
       "3              W            -6.5             O          225.5  \n",
       "4              W            -8.0             U          229.5  "
      ]
     },
     "execution_count": 68,
     "metadata": {},
     "output_type": "execute_result"
    }
   ],
   "source": [
    "order = ['SEASON_YEAR', 'GAME_DATE', 'H_TEAM_ABBREVIATION', 'A_TEAM_ABBREVIATION']\n",
    "other = [col for col in df.columns if col not in order]\n",
    "df = df[order + other]\n",
    "df = df.drop_duplicates(subset=['GAME_DATE', 'H_TEAM_ABBREVIATION', 'A_TEAM_ABBREVIATION'], keep='first')\n",
    "df.head()"
   ]
  },
  {
   "cell_type": "code",
   "execution_count": 69,
   "id": "b2ebe6d8-e9b0-48ad-b66a-a79153925757",
   "metadata": {
    "tags": []
   },
   "outputs": [],
   "source": [
    "df = df.drop(columns=['final_score', 'SEASON_YEAR'])"
   ]
  },
  {
   "cell_type": "code",
   "execution_count": 70,
   "id": "df8b0ad2-c31c-4c91-beae-e69ca72beda9",
   "metadata": {
    "tags": []
   },
   "outputs": [
    {
     "name": "stdout",
     "output_type": "stream",
     "text": [
      "(6733, 284)\n"
     ]
    }
   ],
   "source": [
    "FINAL = pd.read_csv('FINAL.csv', low_memory=False)\n",
    "FINAL = FINAL.drop(columns='Unnamed: 0')\n",
    "print(FINAL.shape)"
   ]
  },
  {
   "cell_type": "code",
   "execution_count": 71,
   "id": "ce63fa28-047e-4694-bc10-dca99f50ae44",
   "metadata": {
    "tags": []
   },
   "outputs": [],
   "source": [
    "def truncate_date(row):\n",
    "    date = row['GAME_DATE']\n",
    "    return date[:10]"
   ]
  },
  {
   "cell_type": "code",
   "execution_count": 72,
   "id": "5a1c1bf9-8722-45be-b8df-97627080b8ac",
   "metadata": {
    "tags": []
   },
   "outputs": [],
   "source": [
    "FINAL[\"GAME_DATE\"] = FINAL.apply(truncate_date, axis=1)"
   ]
  },
  {
   "cell_type": "code",
   "execution_count": 73,
   "id": "4114e654-3e69-4bb0-a016-d2b64365a6b8",
   "metadata": {
    "tags": []
   },
   "outputs": [],
   "source": [
    "FINAL[\"GAME_DATE\"] = pd.to_datetime(FINAL[\"GAME_DATE\"])"
   ]
  },
  {
   "cell_type": "code",
   "execution_count": 74,
   "id": "9315e16a-b907-4dd1-96e2-375b8ef1a11d",
   "metadata": {
    "tags": []
   },
   "outputs": [],
   "source": [
    "FINAL['H_TEAM_NAME'] = FINAL['H_TEAM_NAME'].replace({'LA Clippers': 'Los Angeles Clippers'})\n",
    "FINAL['A_TEAM_NAME'] = FINAL['A_TEAM_NAME'].replace({'LA Clippers': 'Los Angeles Clippers'})"
   ]
  },
  {
   "cell_type": "code",
   "execution_count": 75,
   "id": "0444fdd9-7691-4d80-b162-6cf7e1bdface",
   "metadata": {
    "tags": []
   },
   "outputs": [
    {
     "data": {
      "text/plain": [
       "30"
      ]
     },
     "execution_count": 75,
     "metadata": {},
     "output_type": "execute_result"
    }
   ],
   "source": [
    "FINAL.H_TEAM_NAME.nunique()"
   ]
  },
  {
   "cell_type": "code",
   "execution_count": 76,
   "id": "53adb95d-c30b-48b6-a7d7-203011649df2",
   "metadata": {
    "tags": []
   },
   "outputs": [
    {
     "data": {
      "text/plain": [
       "30"
      ]
     },
     "execution_count": 76,
     "metadata": {},
     "output_type": "execute_result"
    }
   ],
   "source": [
    "df.H_TEAM_ABBREVIATION.nunique()"
   ]
  },
  {
   "cell_type": "code",
   "execution_count": 77,
   "id": "34267d8c-d7c0-4305-97ba-802a7afd5eea",
   "metadata": {
    "tags": []
   },
   "outputs": [
    {
     "data": {
      "text/plain": [
       "(6733, 286)"
      ]
     },
     "execution_count": 77,
     "metadata": {},
     "output_type": "execute_result"
    }
   ],
   "source": [
    "merged_df = pd.merge(\n",
    "    FINAL,\n",
    "    df.drop(columns=['total_outcome', 'spread_outcome']),\n",
    "    on=[\"GAME_DATE\", \"H_TEAM_ABBREVIATION\", \"A_TEAM_ABBREVIATION\"],\n",
    "    how=\"left\"\n",
    ")\n",
    "\n",
    "merged_df.shape"
   ]
  },
  {
   "cell_type": "code",
   "execution_count": 78,
   "id": "90808bed-a350-4827-8224-4eea23f3a530",
   "metadata": {
    "tags": []
   },
   "outputs": [
    {
     "data": {
      "text/plain": [
       "30"
      ]
     },
     "execution_count": 78,
     "metadata": {},
     "output_type": "execute_result"
    }
   ],
   "source": [
    "merged_df.H_TEAM_ABBREVIATION.nunique()"
   ]
  },
  {
   "cell_type": "code",
   "execution_count": 79,
   "id": "637aff2a-2bab-442c-82d6-cdc474ff02d1",
   "metadata": {
    "tags": []
   },
   "outputs": [
    {
     "data": {
      "text/plain": [
       "(6733, 286)"
      ]
     },
     "execution_count": 79,
     "metadata": {},
     "output_type": "execute_result"
    }
   ],
   "source": [
    "test = merged_df.dropna(subset=['SPREAD'])\n",
    "test.shape"
   ]
  },
  {
   "cell_type": "code",
   "execution_count": 80,
   "id": "5674fce2-0e5e-4ca6-a997-7dd32712f51d",
   "metadata": {
    "tags": []
   },
   "outputs": [
    {
     "data": {
      "text/plain": [
       "30"
      ]
     },
     "execution_count": 80,
     "metadata": {},
     "output_type": "execute_result"
    }
   ],
   "source": [
    "test.H_TEAM_ABBREVIATION.nunique()"
   ]
  },
  {
   "cell_type": "code",
   "execution_count": 81,
   "id": "b7cc8ca0-13d5-4f93-9145-d5f8c5481659",
   "metadata": {
    "tags": []
   },
   "outputs": [],
   "source": [
    "test['closing_spread'] = test['closing_spread'] * -1"
   ]
  },
  {
   "cell_type": "code",
   "execution_count": 82,
   "id": "d0d0f376-dbba-4b11-aab5-da8b76cc7bc3",
   "metadata": {
    "tags": []
   },
   "outputs": [],
   "source": [
    "test.to_csv('2-27-Data.csv')"
   ]
  },
  {
   "cell_type": "code",
   "execution_count": null,
   "id": "bee6fc09-0a72-481e-a5c0-6452c39932de",
   "metadata": {},
   "outputs": [],
   "source": []
  }
 ],
 "metadata": {
  "kernelspec": {
   "display_name": "Python 3 (ipykernel)",
   "language": "python",
   "name": "python3"
  },
  "language_info": {
   "codemirror_mode": {
    "name": "ipython",
    "version": 3
   },
   "file_extension": ".py",
   "mimetype": "text/x-python",
   "name": "python",
   "nbconvert_exporter": "python",
   "pygments_lexer": "ipython3",
   "version": "3.11.5"
  }
 },
 "nbformat": 4,
 "nbformat_minor": 5
}
