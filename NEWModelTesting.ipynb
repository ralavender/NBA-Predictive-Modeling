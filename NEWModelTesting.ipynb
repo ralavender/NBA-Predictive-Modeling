{
 "cells": [
  {
   "cell_type": "code",
   "execution_count": 2,
   "id": "94306ee4-8bff-4fa3-bc14-610c9a53a9eb",
   "metadata": {
    "tags": []
   },
   "outputs": [
    {
     "name": "stderr",
     "output_type": "stream",
     "text": [
      "C:\\Users\\ral\\anaconda3\\Lib\\site-packages\\pandas\\core\\arrays\\masked.py:60: UserWarning: Pandas requires version '1.3.6' or newer of 'bottleneck' (version '1.3.5' currently installed).\n",
      "  from pandas.core import (\n"
     ]
    }
   ],
   "source": [
    "import pandas as pd"
   ]
  },
  {
   "cell_type": "code",
   "execution_count": 3,
   "id": "cde74628-debe-4ac7-b758-273fb528b14a",
   "metadata": {
    "tags": []
   },
   "outputs": [],
   "source": [
    "import numpy as np\n",
    "import seaborn as sns"
   ]
  },
  {
   "cell_type": "code",
   "execution_count": 4,
   "id": "be36bfb2-d272-4d1e-99d3-83692993602a",
   "metadata": {
    "tags": []
   },
   "outputs": [
    {
     "name": "stdout",
     "output_type": "stream",
     "text": [
      "(6318, 177)\n"
     ]
    },
    {
     "data": {
      "text/html": [
       "<div>\n",
       "<style scoped>\n",
       "    .dataframe tbody tr th:only-of-type {\n",
       "        vertical-align: middle;\n",
       "    }\n",
       "\n",
       "    .dataframe tbody tr th {\n",
       "        vertical-align: top;\n",
       "    }\n",
       "\n",
       "    .dataframe thead th {\n",
       "        text-align: right;\n",
       "    }\n",
       "</style>\n",
       "<table border=\"1\" class=\"dataframe\">\n",
       "  <thead>\n",
       "    <tr style=\"text-align: right;\">\n",
       "      <th></th>\n",
       "      <th>SEASON_YEAR</th>\n",
       "      <th>GAME_DATE</th>\n",
       "      <th>H_TEAM_ABBREVIATION</th>\n",
       "      <th>A_TEAM_ABBREVIATION</th>\n",
       "      <th>SPREAD</th>\n",
       "      <th>TOTAL</th>\n",
       "      <th>OREB</th>\n",
       "      <th>H_FGM_AVG_5</th>\n",
       "      <th>H_FGA_AVG_5</th>\n",
       "      <th>H_FG_PCT_AVG_5</th>\n",
       "      <th>...</th>\n",
       "      <th>closing_spread</th>\n",
       "      <th>closing_total</th>\n",
       "      <th>H_REST_DAYS</th>\n",
       "      <th>A_REST_DAYS</th>\n",
       "      <th>REST_DAYS_DIFF</th>\n",
       "      <th>H_BACK_TO_BACK</th>\n",
       "      <th>A_BACK_TO_BACK</th>\n",
       "      <th>SPREAD_matchup_last5</th>\n",
       "      <th>TOTAL_matchup_last5</th>\n",
       "      <th>OREB_matchup_last5</th>\n",
       "    </tr>\n",
       "  </thead>\n",
       "  <tbody>\n",
       "    <tr>\n",
       "      <th>0</th>\n",
       "      <td>2019-20</td>\n",
       "      <td>11/12/2019</td>\n",
       "      <td>CHI</td>\n",
       "      <td>NYK</td>\n",
       "      <td>18.0</td>\n",
       "      <td>222.0</td>\n",
       "      <td>22.0</td>\n",
       "      <td>39.2</td>\n",
       "      <td>87.6</td>\n",
       "      <td>0.4502</td>\n",
       "      <td>...</td>\n",
       "      <td>6.5</td>\n",
       "      <td>212.5</td>\n",
       "      <td>3</td>\n",
       "      <td>2</td>\n",
       "      <td>1</td>\n",
       "      <td>0</td>\n",
       "      <td>0</td>\n",
       "      <td>5.0</td>\n",
       "      <td>233.0</td>\n",
       "      <td>21.0</td>\n",
       "    </tr>\n",
       "    <tr>\n",
       "      <th>1</th>\n",
       "      <td>2019-20</td>\n",
       "      <td>11/12/2019</td>\n",
       "      <td>IND</td>\n",
       "      <td>OKC</td>\n",
       "      <td>26.0</td>\n",
       "      <td>196.0</td>\n",
       "      <td>20.0</td>\n",
       "      <td>45.2</td>\n",
       "      <td>89.4</td>\n",
       "      <td>0.5054</td>\n",
       "      <td>...</td>\n",
       "      <td>-1.5</td>\n",
       "      <td>213.0</td>\n",
       "      <td>2</td>\n",
       "      <td>2</td>\n",
       "      <td>0</td>\n",
       "      <td>0</td>\n",
       "      <td>0</td>\n",
       "      <td>1.0</td>\n",
       "      <td>195.0</td>\n",
       "      <td>20.0</td>\n",
       "    </tr>\n",
       "    <tr>\n",
       "      <th>2</th>\n",
       "      <td>2019-20</td>\n",
       "      <td>11/13/2019</td>\n",
       "      <td>ORL</td>\n",
       "      <td>PHI</td>\n",
       "      <td>15.0</td>\n",
       "      <td>209.0</td>\n",
       "      <td>17.0</td>\n",
       "      <td>38.6</td>\n",
       "      <td>86.0</td>\n",
       "      <td>0.4484</td>\n",
       "      <td>...</td>\n",
       "      <td>1.0</td>\n",
       "      <td>207.5</td>\n",
       "      <td>3</td>\n",
       "      <td>1</td>\n",
       "      <td>2</td>\n",
       "      <td>0</td>\n",
       "      <td>1</td>\n",
       "      <td>26.0</td>\n",
       "      <td>214.0</td>\n",
       "      <td>23.0</td>\n",
       "    </tr>\n",
       "    <tr>\n",
       "      <th>3</th>\n",
       "      <td>2019-20</td>\n",
       "      <td>11/13/2019</td>\n",
       "      <td>CHA</td>\n",
       "      <td>MEM</td>\n",
       "      <td>-2.0</td>\n",
       "      <td>236.0</td>\n",
       "      <td>18.0</td>\n",
       "      <td>37.0</td>\n",
       "      <td>86.2</td>\n",
       "      <td>0.4292</td>\n",
       "      <td>...</td>\n",
       "      <td>-1.5</td>\n",
       "      <td>221.0</td>\n",
       "      <td>3</td>\n",
       "      <td>2</td>\n",
       "      <td>1</td>\n",
       "      <td>0</td>\n",
       "      <td>0</td>\n",
       "      <td>15.0</td>\n",
       "      <td>243.0</td>\n",
       "      <td>23.0</td>\n",
       "    </tr>\n",
       "    <tr>\n",
       "      <th>4</th>\n",
       "      <td>2019-20</td>\n",
       "      <td>11/13/2019</td>\n",
       "      <td>HOU</td>\n",
       "      <td>LAC</td>\n",
       "      <td>9.0</td>\n",
       "      <td>195.0</td>\n",
       "      <td>20.0</td>\n",
       "      <td>39.4</td>\n",
       "      <td>87.4</td>\n",
       "      <td>0.4502</td>\n",
       "      <td>...</td>\n",
       "      <td>2.0</td>\n",
       "      <td>233.5</td>\n",
       "      <td>2</td>\n",
       "      <td>2</td>\n",
       "      <td>0</td>\n",
       "      <td>0</td>\n",
       "      <td>0</td>\n",
       "      <td>9.0</td>\n",
       "      <td>195.0</td>\n",
       "      <td>20.0</td>\n",
       "    </tr>\n",
       "    <tr>\n",
       "      <th>...</th>\n",
       "      <td>...</td>\n",
       "      <td>...</td>\n",
       "      <td>...</td>\n",
       "      <td>...</td>\n",
       "      <td>...</td>\n",
       "      <td>...</td>\n",
       "      <td>...</td>\n",
       "      <td>...</td>\n",
       "      <td>...</td>\n",
       "      <td>...</td>\n",
       "      <td>...</td>\n",
       "      <td>...</td>\n",
       "      <td>...</td>\n",
       "      <td>...</td>\n",
       "      <td>...</td>\n",
       "      <td>...</td>\n",
       "      <td>...</td>\n",
       "      <td>...</td>\n",
       "      <td>...</td>\n",
       "      <td>...</td>\n",
       "      <td>...</td>\n",
       "    </tr>\n",
       "    <tr>\n",
       "      <th>6313</th>\n",
       "      <td>2024-25</td>\n",
       "      <td>3/21/2025</td>\n",
       "      <td>SAS</td>\n",
       "      <td>PHI</td>\n",
       "      <td>NaN</td>\n",
       "      <td>NaN</td>\n",
       "      <td>NaN</td>\n",
       "      <td>41.0</td>\n",
       "      <td>94.0</td>\n",
       "      <td>0.4384</td>\n",
       "      <td>...</td>\n",
       "      <td>-5.5</td>\n",
       "      <td>216.5</td>\n",
       "      <td>1</td>\n",
       "      <td>2</td>\n",
       "      <td>-1</td>\n",
       "      <td>1</td>\n",
       "      <td>0</td>\n",
       "      <td>9.2</td>\n",
       "      <td>230.4</td>\n",
       "      <td>18.4</td>\n",
       "    </tr>\n",
       "    <tr>\n",
       "      <th>6314</th>\n",
       "      <td>2024-25</td>\n",
       "      <td>3/21/2025</td>\n",
       "      <td>DAL</td>\n",
       "      <td>DET</td>\n",
       "      <td>NaN</td>\n",
       "      <td>NaN</td>\n",
       "      <td>NaN</td>\n",
       "      <td>38.6</td>\n",
       "      <td>90.8</td>\n",
       "      <td>0.4270</td>\n",
       "      <td>...</td>\n",
       "      <td>1.0</td>\n",
       "      <td>230.5</td>\n",
       "      <td>2</td>\n",
       "      <td>2</td>\n",
       "      <td>0</td>\n",
       "      <td>0</td>\n",
       "      <td>0</td>\n",
       "      <td>1.4</td>\n",
       "      <td>239.8</td>\n",
       "      <td>18.6</td>\n",
       "    </tr>\n",
       "    <tr>\n",
       "      <th>6315</th>\n",
       "      <td>2024-25</td>\n",
       "      <td>3/21/2025</td>\n",
       "      <td>UTA</td>\n",
       "      <td>BOS</td>\n",
       "      <td>NaN</td>\n",
       "      <td>NaN</td>\n",
       "      <td>NaN</td>\n",
       "      <td>43.8</td>\n",
       "      <td>93.6</td>\n",
       "      <td>0.4680</td>\n",
       "      <td>...</td>\n",
       "      <td>-6.5</td>\n",
       "      <td>230.0</td>\n",
       "      <td>2</td>\n",
       "      <td>2</td>\n",
       "      <td>0</td>\n",
       "      <td>0</td>\n",
       "      <td>0</td>\n",
       "      <td>11.0</td>\n",
       "      <td>205.8</td>\n",
       "      <td>23.2</td>\n",
       "    </tr>\n",
       "    <tr>\n",
       "      <th>6316</th>\n",
       "      <td>2024-25</td>\n",
       "      <td>3/21/2025</td>\n",
       "      <td>PHX</td>\n",
       "      <td>CLE</td>\n",
       "      <td>NaN</td>\n",
       "      <td>NaN</td>\n",
       "      <td>NaN</td>\n",
       "      <td>46.0</td>\n",
       "      <td>89.2</td>\n",
       "      <td>0.5174</td>\n",
       "      <td>...</td>\n",
       "      <td>-7.5</td>\n",
       "      <td>239.0</td>\n",
       "      <td>2</td>\n",
       "      <td>2</td>\n",
       "      <td>0</td>\n",
       "      <td>0</td>\n",
       "      <td>0</td>\n",
       "      <td>18.2</td>\n",
       "      <td>223.8</td>\n",
       "      <td>21.0</td>\n",
       "    </tr>\n",
       "    <tr>\n",
       "      <th>6317</th>\n",
       "      <td>2024-25</td>\n",
       "      <td>3/21/2025</td>\n",
       "      <td>LAC</td>\n",
       "      <td>MEM</td>\n",
       "      <td>NaN</td>\n",
       "      <td>NaN</td>\n",
       "      <td>NaN</td>\n",
       "      <td>42.2</td>\n",
       "      <td>86.8</td>\n",
       "      <td>0.4874</td>\n",
       "      <td>...</td>\n",
       "      <td>6.0</td>\n",
       "      <td>235.5</td>\n",
       "      <td>2</td>\n",
       "      <td>3</td>\n",
       "      <td>-1</td>\n",
       "      <td>0</td>\n",
       "      <td>0</td>\n",
       "      <td>4.8</td>\n",
       "      <td>246.0</td>\n",
       "      <td>25.6</td>\n",
       "    </tr>\n",
       "  </tbody>\n",
       "</table>\n",
       "<p>6318 rows × 177 columns</p>\n",
       "</div>"
      ],
      "text/plain": [
       "     SEASON_YEAR   GAME_DATE H_TEAM_ABBREVIATION A_TEAM_ABBREVIATION  SPREAD  \\\n",
       "0        2019-20  11/12/2019                 CHI                 NYK    18.0   \n",
       "1        2019-20  11/12/2019                 IND                 OKC    26.0   \n",
       "2        2019-20  11/13/2019                 ORL                 PHI    15.0   \n",
       "3        2019-20  11/13/2019                 CHA                 MEM    -2.0   \n",
       "4        2019-20  11/13/2019                 HOU                 LAC     9.0   \n",
       "...          ...         ...                 ...                 ...     ...   \n",
       "6313     2024-25   3/21/2025                 SAS                 PHI     NaN   \n",
       "6314     2024-25   3/21/2025                 DAL                 DET     NaN   \n",
       "6315     2024-25   3/21/2025                 UTA                 BOS     NaN   \n",
       "6316     2024-25   3/21/2025                 PHX                 CLE     NaN   \n",
       "6317     2024-25   3/21/2025                 LAC                 MEM     NaN   \n",
       "\n",
       "      TOTAL  OREB  H_FGM_AVG_5  H_FGA_AVG_5  H_FG_PCT_AVG_5  ...  \\\n",
       "0     222.0  22.0         39.2         87.6          0.4502  ...   \n",
       "1     196.0  20.0         45.2         89.4          0.5054  ...   \n",
       "2     209.0  17.0         38.6         86.0          0.4484  ...   \n",
       "3     236.0  18.0         37.0         86.2          0.4292  ...   \n",
       "4     195.0  20.0         39.4         87.4          0.4502  ...   \n",
       "...     ...   ...          ...          ...             ...  ...   \n",
       "6313    NaN   NaN         41.0         94.0          0.4384  ...   \n",
       "6314    NaN   NaN         38.6         90.8          0.4270  ...   \n",
       "6315    NaN   NaN         43.8         93.6          0.4680  ...   \n",
       "6316    NaN   NaN         46.0         89.2          0.5174  ...   \n",
       "6317    NaN   NaN         42.2         86.8          0.4874  ...   \n",
       "\n",
       "      closing_spread  closing_total  H_REST_DAYS  A_REST_DAYS  REST_DAYS_DIFF  \\\n",
       "0                6.5          212.5            3            2               1   \n",
       "1               -1.5          213.0            2            2               0   \n",
       "2                1.0          207.5            3            1               2   \n",
       "3               -1.5          221.0            3            2               1   \n",
       "4                2.0          233.5            2            2               0   \n",
       "...              ...            ...          ...          ...             ...   \n",
       "6313            -5.5          216.5            1            2              -1   \n",
       "6314             1.0          230.5            2            2               0   \n",
       "6315            -6.5          230.0            2            2               0   \n",
       "6316            -7.5          239.0            2            2               0   \n",
       "6317             6.0          235.5            2            3              -1   \n",
       "\n",
       "      H_BACK_TO_BACK  A_BACK_TO_BACK  SPREAD_matchup_last5  \\\n",
       "0                  0               0                   5.0   \n",
       "1                  0               0                   1.0   \n",
       "2                  0               1                  26.0   \n",
       "3                  0               0                  15.0   \n",
       "4                  0               0                   9.0   \n",
       "...              ...             ...                   ...   \n",
       "6313               1               0                   9.2   \n",
       "6314               0               0                   1.4   \n",
       "6315               0               0                  11.0   \n",
       "6316               0               0                  18.2   \n",
       "6317               0               0                   4.8   \n",
       "\n",
       "      TOTAL_matchup_last5  OREB_matchup_last5  \n",
       "0                   233.0                21.0  \n",
       "1                   195.0                20.0  \n",
       "2                   214.0                23.0  \n",
       "3                   243.0                23.0  \n",
       "4                   195.0                20.0  \n",
       "...                   ...                 ...  \n",
       "6313                230.4                18.4  \n",
       "6314                239.8                18.6  \n",
       "6315                205.8                23.2  \n",
       "6316                223.8                21.0  \n",
       "6317                246.0                25.6  \n",
       "\n",
       "[6318 rows x 177 columns]"
      ]
     },
     "execution_count": 4,
     "metadata": {},
     "output_type": "execute_result"
    }
   ],
   "source": [
    "df = pd.read_csv('B1_WPredictions.csv', low_memory=False)\n",
    "print(df.shape)\n",
    "df"
   ]
  },
  {
   "cell_type": "code",
   "execution_count": 5,
   "id": "9701bc41-699d-4757-9426-8b593d09011c",
   "metadata": {
    "tags": []
   },
   "outputs": [],
   "source": [
    "BET = ['closing_spread', 'closing_total', 'SPREAD_matchup_last5', 'TOTAL_matchup_last5', 'OREB_matchup_last5']\n",
    "REST = ['H_REST_DAYS', 'A_REST_DAYS', 'REST_DAYS_DIFF']"
   ]
  },
  {
   "cell_type": "code",
   "execution_count": 6,
   "id": "81121330-6f5a-42da-9166-17c30fa99e93",
   "metadata": {
    "tags": []
   },
   "outputs": [
    {
     "data": {
      "text/plain": [
       "168"
      ]
     },
     "execution_count": 6,
     "metadata": {},
     "output_type": "execute_result"
    }
   ],
   "source": [
    "numeric_features = [col for col in df.columns if \"AVG\" in col or \"MOMENTUM\" in col or \"WIN_PCT\" in col or col in BET or col in REST]\n",
    "len(numeric_features)"
   ]
  },
  {
   "cell_type": "code",
   "execution_count": 7,
   "id": "540cda71-e750-4882-a044-aea46a5785f7",
   "metadata": {
    "tags": []
   },
   "outputs": [],
   "source": [
    "df['GAME_DATE'] = pd.to_datetime(df['GAME_DATE'])"
   ]
  },
  {
   "cell_type": "code",
   "execution_count": 8,
   "id": "e20280a6-f78b-41f9-95fc-4885a1321a13",
   "metadata": {
    "tags": []
   },
   "outputs": [
    {
     "name": "stderr",
     "output_type": "stream",
     "text": [
      "C:\\Users\\ral\\AppData\\Local\\Temp\\ipykernel_4916\\1236846239.py:2: UserWarning: Boolean Series key will be reindexed to match DataFrame index.\n",
      "  past = past[(df.GAME_DATE.dt.month != 3) | (df.GAME_DATE.dt.day <= 6)]\n"
     ]
    },
    {
     "data": {
      "text/html": [
       "<div>\n",
       "<style scoped>\n",
       "    .dataframe tbody tr th:only-of-type {\n",
       "        vertical-align: middle;\n",
       "    }\n",
       "\n",
       "    .dataframe tbody tr th {\n",
       "        vertical-align: top;\n",
       "    }\n",
       "\n",
       "    .dataframe thead th {\n",
       "        text-align: right;\n",
       "    }\n",
       "</style>\n",
       "<table border=\"1\" class=\"dataframe\">\n",
       "  <thead>\n",
       "    <tr style=\"text-align: right;\">\n",
       "      <th></th>\n",
       "      <th>SEASON_YEAR</th>\n",
       "      <th>GAME_DATE</th>\n",
       "      <th>H_TEAM_ABBREVIATION</th>\n",
       "      <th>A_TEAM_ABBREVIATION</th>\n",
       "      <th>SPREAD</th>\n",
       "      <th>TOTAL</th>\n",
       "      <th>OREB</th>\n",
       "      <th>H_FGM_AVG_5</th>\n",
       "      <th>H_FGA_AVG_5</th>\n",
       "      <th>H_FG_PCT_AVG_5</th>\n",
       "      <th>...</th>\n",
       "      <th>closing_spread</th>\n",
       "      <th>closing_total</th>\n",
       "      <th>H_REST_DAYS</th>\n",
       "      <th>A_REST_DAYS</th>\n",
       "      <th>REST_DAYS_DIFF</th>\n",
       "      <th>H_BACK_TO_BACK</th>\n",
       "      <th>A_BACK_TO_BACK</th>\n",
       "      <th>SPREAD_matchup_last5</th>\n",
       "      <th>TOTAL_matchup_last5</th>\n",
       "      <th>OREB_matchup_last5</th>\n",
       "    </tr>\n",
       "  </thead>\n",
       "  <tbody>\n",
       "    <tr>\n",
       "      <th>0</th>\n",
       "      <td>2019-20</td>\n",
       "      <td>2019-11-12</td>\n",
       "      <td>CHI</td>\n",
       "      <td>NYK</td>\n",
       "      <td>18.0</td>\n",
       "      <td>222.0</td>\n",
       "      <td>22.0</td>\n",
       "      <td>39.2</td>\n",
       "      <td>87.6</td>\n",
       "      <td>0.4502</td>\n",
       "      <td>...</td>\n",
       "      <td>6.5</td>\n",
       "      <td>212.5</td>\n",
       "      <td>3</td>\n",
       "      <td>2</td>\n",
       "      <td>1</td>\n",
       "      <td>0</td>\n",
       "      <td>0</td>\n",
       "      <td>5.0</td>\n",
       "      <td>233.0</td>\n",
       "      <td>21.0</td>\n",
       "    </tr>\n",
       "    <tr>\n",
       "      <th>1</th>\n",
       "      <td>2019-20</td>\n",
       "      <td>2019-11-12</td>\n",
       "      <td>IND</td>\n",
       "      <td>OKC</td>\n",
       "      <td>26.0</td>\n",
       "      <td>196.0</td>\n",
       "      <td>20.0</td>\n",
       "      <td>45.2</td>\n",
       "      <td>89.4</td>\n",
       "      <td>0.5054</td>\n",
       "      <td>...</td>\n",
       "      <td>-1.5</td>\n",
       "      <td>213.0</td>\n",
       "      <td>2</td>\n",
       "      <td>2</td>\n",
       "      <td>0</td>\n",
       "      <td>0</td>\n",
       "      <td>0</td>\n",
       "      <td>1.0</td>\n",
       "      <td>195.0</td>\n",
       "      <td>20.0</td>\n",
       "    </tr>\n",
       "    <tr>\n",
       "      <th>2</th>\n",
       "      <td>2019-20</td>\n",
       "      <td>2019-11-13</td>\n",
       "      <td>ORL</td>\n",
       "      <td>PHI</td>\n",
       "      <td>15.0</td>\n",
       "      <td>209.0</td>\n",
       "      <td>17.0</td>\n",
       "      <td>38.6</td>\n",
       "      <td>86.0</td>\n",
       "      <td>0.4484</td>\n",
       "      <td>...</td>\n",
       "      <td>1.0</td>\n",
       "      <td>207.5</td>\n",
       "      <td>3</td>\n",
       "      <td>1</td>\n",
       "      <td>2</td>\n",
       "      <td>0</td>\n",
       "      <td>1</td>\n",
       "      <td>26.0</td>\n",
       "      <td>214.0</td>\n",
       "      <td>23.0</td>\n",
       "    </tr>\n",
       "    <tr>\n",
       "      <th>3</th>\n",
       "      <td>2019-20</td>\n",
       "      <td>2019-11-13</td>\n",
       "      <td>CHA</td>\n",
       "      <td>MEM</td>\n",
       "      <td>-2.0</td>\n",
       "      <td>236.0</td>\n",
       "      <td>18.0</td>\n",
       "      <td>37.0</td>\n",
       "      <td>86.2</td>\n",
       "      <td>0.4292</td>\n",
       "      <td>...</td>\n",
       "      <td>-1.5</td>\n",
       "      <td>221.0</td>\n",
       "      <td>3</td>\n",
       "      <td>2</td>\n",
       "      <td>1</td>\n",
       "      <td>0</td>\n",
       "      <td>0</td>\n",
       "      <td>15.0</td>\n",
       "      <td>243.0</td>\n",
       "      <td>23.0</td>\n",
       "    </tr>\n",
       "    <tr>\n",
       "      <th>4</th>\n",
       "      <td>2019-20</td>\n",
       "      <td>2019-11-13</td>\n",
       "      <td>HOU</td>\n",
       "      <td>LAC</td>\n",
       "      <td>9.0</td>\n",
       "      <td>195.0</td>\n",
       "      <td>20.0</td>\n",
       "      <td>39.4</td>\n",
       "      <td>87.4</td>\n",
       "      <td>0.4502</td>\n",
       "      <td>...</td>\n",
       "      <td>2.0</td>\n",
       "      <td>233.5</td>\n",
       "      <td>2</td>\n",
       "      <td>2</td>\n",
       "      <td>0</td>\n",
       "      <td>0</td>\n",
       "      <td>0</td>\n",
       "      <td>9.0</td>\n",
       "      <td>195.0</td>\n",
       "      <td>20.0</td>\n",
       "    </tr>\n",
       "    <tr>\n",
       "      <th>...</th>\n",
       "      <td>...</td>\n",
       "      <td>...</td>\n",
       "      <td>...</td>\n",
       "      <td>...</td>\n",
       "      <td>...</td>\n",
       "      <td>...</td>\n",
       "      <td>...</td>\n",
       "      <td>...</td>\n",
       "      <td>...</td>\n",
       "      <td>...</td>\n",
       "      <td>...</td>\n",
       "      <td>...</td>\n",
       "      <td>...</td>\n",
       "      <td>...</td>\n",
       "      <td>...</td>\n",
       "      <td>...</td>\n",
       "      <td>...</td>\n",
       "      <td>...</td>\n",
       "      <td>...</td>\n",
       "      <td>...</td>\n",
       "      <td>...</td>\n",
       "    </tr>\n",
       "    <tr>\n",
       "      <th>6192</th>\n",
       "      <td>2024-25</td>\n",
       "      <td>2025-03-03</td>\n",
       "      <td>PHI</td>\n",
       "      <td>POR</td>\n",
       "      <td>-17.0</td>\n",
       "      <td>221.0</td>\n",
       "      <td>36.0</td>\n",
       "      <td>39.4</td>\n",
       "      <td>89.2</td>\n",
       "      <td>0.4430</td>\n",
       "      <td>...</td>\n",
       "      <td>1.0</td>\n",
       "      <td>230.0</td>\n",
       "      <td>2</td>\n",
       "      <td>1</td>\n",
       "      <td>1</td>\n",
       "      <td>0</td>\n",
       "      <td>1</td>\n",
       "      <td>3.2</td>\n",
       "      <td>229.2</td>\n",
       "      <td>24.2</td>\n",
       "    </tr>\n",
       "    <tr>\n",
       "      <th>6193</th>\n",
       "      <td>2024-25</td>\n",
       "      <td>2025-03-03</td>\n",
       "      <td>UTA</td>\n",
       "      <td>DET</td>\n",
       "      <td>-28.0</td>\n",
       "      <td>240.0</td>\n",
       "      <td>17.0</td>\n",
       "      <td>43.8</td>\n",
       "      <td>93.6</td>\n",
       "      <td>0.4680</td>\n",
       "      <td>...</td>\n",
       "      <td>-10.5</td>\n",
       "      <td>232.0</td>\n",
       "      <td>1</td>\n",
       "      <td>2</td>\n",
       "      <td>-1</td>\n",
       "      <td>1</td>\n",
       "      <td>0</td>\n",
       "      <td>0.2</td>\n",
       "      <td>217.4</td>\n",
       "      <td>15.6</td>\n",
       "    </tr>\n",
       "    <tr>\n",
       "      <th>6194</th>\n",
       "      <td>2024-25</td>\n",
       "      <td>2025-03-03</td>\n",
       "      <td>MIA</td>\n",
       "      <td>WAS</td>\n",
       "      <td>16.0</td>\n",
       "      <td>196.0</td>\n",
       "      <td>12.0</td>\n",
       "      <td>41.2</td>\n",
       "      <td>83.2</td>\n",
       "      <td>0.4972</td>\n",
       "      <td>...</td>\n",
       "      <td>-8.5</td>\n",
       "      <td>217.5</td>\n",
       "      <td>1</td>\n",
       "      <td>2</td>\n",
       "      <td>-1</td>\n",
       "      <td>1</td>\n",
       "      <td>0</td>\n",
       "      <td>-7.0</td>\n",
       "      <td>235.8</td>\n",
       "      <td>23.6</td>\n",
       "    </tr>\n",
       "    <tr>\n",
       "      <th>6195</th>\n",
       "      <td>2024-25</td>\n",
       "      <td>2025-03-03</td>\n",
       "      <td>MEM</td>\n",
       "      <td>ATL</td>\n",
       "      <td>-2.0</td>\n",
       "      <td>262.0</td>\n",
       "      <td>31.0</td>\n",
       "      <td>45.2</td>\n",
       "      <td>94.4</td>\n",
       "      <td>0.4778</td>\n",
       "      <td>...</td>\n",
       "      <td>8.0</td>\n",
       "      <td>250.5</td>\n",
       "      <td>2</td>\n",
       "      <td>3</td>\n",
       "      <td>-1</td>\n",
       "      <td>0</td>\n",
       "      <td>0</td>\n",
       "      <td>-11.0</td>\n",
       "      <td>225.0</td>\n",
       "      <td>17.2</td>\n",
       "    </tr>\n",
       "    <tr>\n",
       "      <th>6197</th>\n",
       "      <td>2024-25</td>\n",
       "      <td>2025-03-03</td>\n",
       "      <td>CHA</td>\n",
       "      <td>GSW</td>\n",
       "      <td>-18.0</td>\n",
       "      <td>220.0</td>\n",
       "      <td>20.0</td>\n",
       "      <td>35.6</td>\n",
       "      <td>92.6</td>\n",
       "      <td>0.3840</td>\n",
       "      <td>...</td>\n",
       "      <td>12.5</td>\n",
       "      <td>229.0</td>\n",
       "      <td>2</td>\n",
       "      <td>2</td>\n",
       "      <td>0</td>\n",
       "      <td>0</td>\n",
       "      <td>0</td>\n",
       "      <td>8.4</td>\n",
       "      <td>239.6</td>\n",
       "      <td>25.8</td>\n",
       "    </tr>\n",
       "  </tbody>\n",
       "</table>\n",
       "<p>4815 rows × 177 columns</p>\n",
       "</div>"
      ],
      "text/plain": [
       "     SEASON_YEAR  GAME_DATE H_TEAM_ABBREVIATION A_TEAM_ABBREVIATION  SPREAD  \\\n",
       "0        2019-20 2019-11-12                 CHI                 NYK    18.0   \n",
       "1        2019-20 2019-11-12                 IND                 OKC    26.0   \n",
       "2        2019-20 2019-11-13                 ORL                 PHI    15.0   \n",
       "3        2019-20 2019-11-13                 CHA                 MEM    -2.0   \n",
       "4        2019-20 2019-11-13                 HOU                 LAC     9.0   \n",
       "...          ...        ...                 ...                 ...     ...   \n",
       "6192     2024-25 2025-03-03                 PHI                 POR   -17.0   \n",
       "6193     2024-25 2025-03-03                 UTA                 DET   -28.0   \n",
       "6194     2024-25 2025-03-03                 MIA                 WAS    16.0   \n",
       "6195     2024-25 2025-03-03                 MEM                 ATL    -2.0   \n",
       "6197     2024-25 2025-03-03                 CHA                 GSW   -18.0   \n",
       "\n",
       "      TOTAL  OREB  H_FGM_AVG_5  H_FGA_AVG_5  H_FG_PCT_AVG_5  ...  \\\n",
       "0     222.0  22.0         39.2         87.6          0.4502  ...   \n",
       "1     196.0  20.0         45.2         89.4          0.5054  ...   \n",
       "2     209.0  17.0         38.6         86.0          0.4484  ...   \n",
       "3     236.0  18.0         37.0         86.2          0.4292  ...   \n",
       "4     195.0  20.0         39.4         87.4          0.4502  ...   \n",
       "...     ...   ...          ...          ...             ...  ...   \n",
       "6192  221.0  36.0         39.4         89.2          0.4430  ...   \n",
       "6193  240.0  17.0         43.8         93.6          0.4680  ...   \n",
       "6194  196.0  12.0         41.2         83.2          0.4972  ...   \n",
       "6195  262.0  31.0         45.2         94.4          0.4778  ...   \n",
       "6197  220.0  20.0         35.6         92.6          0.3840  ...   \n",
       "\n",
       "      closing_spread  closing_total  H_REST_DAYS  A_REST_DAYS  REST_DAYS_DIFF  \\\n",
       "0                6.5          212.5            3            2               1   \n",
       "1               -1.5          213.0            2            2               0   \n",
       "2                1.0          207.5            3            1               2   \n",
       "3               -1.5          221.0            3            2               1   \n",
       "4                2.0          233.5            2            2               0   \n",
       "...              ...            ...          ...          ...             ...   \n",
       "6192             1.0          230.0            2            1               1   \n",
       "6193           -10.5          232.0            1            2              -1   \n",
       "6194            -8.5          217.5            1            2              -1   \n",
       "6195             8.0          250.5            2            3              -1   \n",
       "6197            12.5          229.0            2            2               0   \n",
       "\n",
       "      H_BACK_TO_BACK  A_BACK_TO_BACK  SPREAD_matchup_last5  \\\n",
       "0                  0               0                   5.0   \n",
       "1                  0               0                   1.0   \n",
       "2                  0               1                  26.0   \n",
       "3                  0               0                  15.0   \n",
       "4                  0               0                   9.0   \n",
       "...              ...             ...                   ...   \n",
       "6192               0               1                   3.2   \n",
       "6193               1               0                   0.2   \n",
       "6194               1               0                  -7.0   \n",
       "6195               0               0                 -11.0   \n",
       "6197               0               0                   8.4   \n",
       "\n",
       "      TOTAL_matchup_last5  OREB_matchup_last5  \n",
       "0                   233.0                21.0  \n",
       "1                   195.0                20.0  \n",
       "2                   214.0                23.0  \n",
       "3                   243.0                23.0  \n",
       "4                   195.0                20.0  \n",
       "...                   ...                 ...  \n",
       "6192                229.2                24.2  \n",
       "6193                217.4                15.6  \n",
       "6194                235.8                23.6  \n",
       "6195                225.0                17.2  \n",
       "6197                239.6                25.8  \n",
       "\n",
       "[4815 rows x 177 columns]"
      ]
     },
     "execution_count": 8,
     "metadata": {},
     "output_type": "execute_result"
    }
   ],
   "source": [
    "past = df[(df.GAME_DATE.dt.month >= 10) | (df.GAME_DATE.dt.month <= 3)]\n",
    "past = past[(df.GAME_DATE.dt.month != 3) | (df.GAME_DATE.dt.day <= 6)]\n",
    "past.sort_values(by='GAME_DATE')"
   ]
  },
  {
   "cell_type": "code",
   "execution_count": 9,
   "id": "0ff14ff2-97fb-4b1d-b613-99baf263b221",
   "metadata": {
    "tags": []
   },
   "outputs": [],
   "source": [
    "future = df[(df.GAME_DATE.dt.month == 3) & (df.GAME_DATE.dt.day >= 7) & (df.GAME_DATE.dt.day <= 21) & (df.SEASON_YEAR != '2024-25')]"
   ]
  },
  {
   "cell_type": "code",
   "execution_count": 10,
   "id": "0870a53d-03ba-41a2-b938-3d00daac4a0b",
   "metadata": {
    "tags": []
   },
   "outputs": [],
   "source": [
    "TRAIN = past\n",
    "TEST = future"
   ]
  },
  {
   "cell_type": "code",
   "execution_count": 11,
   "id": "d21b6a37-78e3-44a6-9574-2bdc09e5d250",
   "metadata": {
    "tags": []
   },
   "outputs": [
    {
     "data": {
      "text/plain": [
       "91.47036474164135"
      ]
     },
     "execution_count": 11,
     "metadata": {},
     "output_type": "execute_result"
    }
   ],
   "source": [
    "TRAIN.shape[0] / (TRAIN.shape[0] + TEST.shape[0]) * 100"
   ]
  },
  {
   "cell_type": "code",
   "execution_count": 12,
   "id": "18c0e62d-1f8c-4ee3-b7b0-0625e98e591c",
   "metadata": {
    "tags": []
   },
   "outputs": [
    {
     "data": {
      "text/plain": [
       "(4815, 449)"
      ]
     },
     "execution_count": 12,
     "metadata": {},
     "output_type": "execute_result"
    }
   ],
   "source": [
    "TRAIN.shape[0], TEST.shape[0]"
   ]
  },
  {
   "cell_type": "code",
   "execution_count": 13,
   "id": "a94c2625-81bc-4c79-bc70-32706534e62e",
   "metadata": {
    "tags": []
   },
   "outputs": [],
   "source": [
    "features = numeric_features + ['H_BACK_TO_BACK', 'A_BACK_TO_BACK']"
   ]
  },
  {
   "cell_type": "code",
   "execution_count": 14,
   "id": "5174bf42-03f7-40a2-8b18-a29ec45e4a46",
   "metadata": {
    "tags": []
   },
   "outputs": [],
   "source": [
    "from sklearn.linear_model import LinearRegression\n",
    "from sklearn.metrics import mean_absolute_error"
   ]
  },
  {
   "cell_type": "code",
   "execution_count": 15,
   "id": "d60a184a-9dfb-4189-b5d7-62c15ccfc8c7",
   "metadata": {
    "tags": []
   },
   "outputs": [],
   "source": [
    "X_train = TRAIN[features]\n",
    "X_test = TEST[features]"
   ]
  },
  {
   "cell_type": "code",
   "execution_count": 16,
   "id": "8dd7fcff-de18-445f-b485-2c60b45d38b3",
   "metadata": {
    "tags": []
   },
   "outputs": [],
   "source": [
    "y_train = TRAIN['OREB']\n",
    "y_test = TEST['OREB']"
   ]
  },
  {
   "cell_type": "code",
   "execution_count": 17,
   "id": "ca315ccb-edf9-4e5c-ae38-8b2450991d5a",
   "metadata": {
    "tags": []
   },
   "outputs": [
    {
     "name": "stdout",
     "output_type": "stream",
     "text": [
      "MAE: 4.128497382002834\n"
     ]
    }
   ],
   "source": [
    "model = LinearRegression(fit_intercept=True)\n",
    "\n",
    "model.fit(X_train, y_train)\n",
    "\n",
    "y_pred = model.predict(X_test)\n",
    "\n",
    "mae = mean_absolute_error(y_test, y_pred)\n",
    "\n",
    "print(\"MAE:\", mae)"
   ]
  },
  {
   "cell_type": "code",
   "execution_count": 201,
   "id": "fc664f8f-a0bf-4d56-aa0e-931031bf4620",
   "metadata": {
    "tags": []
   },
   "outputs": [],
   "source": [
    "from sklearn.linear_model import Ridge, Lasso"
   ]
  },
  {
   "cell_type": "code",
   "execution_count": 202,
   "id": "f7f89be8-d31c-4dbd-9313-088140a041cb",
   "metadata": {
    "tags": []
   },
   "outputs": [
    {
     "name": "stdout",
     "output_type": "stream",
     "text": [
      "Mean Absolute Error: 4.0249051645351654\n"
     ]
    },
    {
     "name": "stderr",
     "output_type": "stream",
     "text": [
      "C:\\Users\\ral\\anaconda3\\Lib\\site-packages\\sklearn\\linear_model\\_ridge.py:211: LinAlgWarning: Ill-conditioned matrix (rcond=2.28593e-32): result may not be accurate.\n",
      "  return linalg.solve(A, Xy, assume_a=\"pos\", overwrite_a=True).T\n"
     ]
    }
   ],
   "source": [
    "model = Ridge(alpha=1.0)\n",
    "model.fit(X_train, y_train)\n",
    "\n",
    "y_pred = model.predict(X_test)\n",
    "\n",
    "mae = mean_absolute_error(y_test, y_pred)\n",
    "print(\"Mean Absolute Error:\", mae)"
   ]
  },
  {
   "cell_type": "code",
   "execution_count": 204,
   "id": "6567e91c-75fc-4b6b-bc36-2da81794153d",
   "metadata": {
    "tags": []
   },
   "outputs": [
    {
     "name": "stdout",
     "output_type": "stream",
     "text": [
      "Mean Absolute Error: 3.9621380846325165\n"
     ]
    }
   ],
   "source": [
    "model = Lasso(alpha=0.05)\n",
    "model.fit(X_train, y_train)\n",
    "\n",
    "y_pred = model.predict(X_test)\n",
    "\n",
    "mae = mean_absolute_error(y_test, np.round(y_pred))\n",
    "print(\"Mean Absolute Error:\", mae)"
   ]
  },
  {
   "cell_type": "code",
   "execution_count": 171,
   "id": "bbb3ac4c-3f16-415c-b635-360109f30a9c",
   "metadata": {
    "tags": []
   },
   "outputs": [
    {
     "data": {
      "text/plain": [
       "44"
      ]
     },
     "execution_count": 171,
     "metadata": {},
     "output_type": "execute_result"
    }
   ],
   "source": [
    "lasso_coef = pd.Series(model.coef_, index=features)\n",
    "len(abs(lasso_coef).sort_values(ascending=False)[lasso_coef != 0])"
   ]
  },
  {
   "cell_type": "code",
   "execution_count": 189,
   "id": "1d8524f0-c2a7-4adf-a1c7-6c8b19654ea5",
   "metadata": {
    "tags": []
   },
   "outputs": [],
   "source": [
    "pred_df = pd.read_csv('finalpred.csv')"
   ]
  },
  {
   "cell_type": "code",
   "execution_count": 190,
   "id": "0a016d9e-660a-48e7-8e52-494a2701bf98",
   "metadata": {
    "tags": []
   },
   "outputs": [
    {
     "name": "stderr",
     "output_type": "stream",
     "text": [
      "C:\\Users\\ral\\AppData\\Local\\Temp\\ipykernel_10580\\407598086.py:1: UserWarning: Could not infer format, so each element will be parsed individually, falling back to `dateutil`. To ensure parsing is consistent and as-expected, please specify a format.\n",
      "  pred_df['GAME_DATE'] = pd.to_datetime(pred_df['GAME_DATE'])\n"
     ]
    }
   ],
   "source": [
    "pred_df['GAME_DATE'] = pd.to_datetime(pred_df['GAME_DATE'])"
   ]
  },
  {
   "cell_type": "code",
   "execution_count": 191,
   "id": "39d9ff3f-fbe3-46f3-a92c-2e1592ecb549",
   "metadata": {
    "tags": []
   },
   "outputs": [],
   "source": [
    "current = pred_df[(pred_df.GAME_DATE.dt.month == 3) & (pred_df.GAME_DATE.dt.day >= 7) & (pred_df.GAME_DATE.dt.day <= 21) & (pred_df.SEASON_YEAR == '2024-25')]"
   ]
  },
  {
   "cell_type": "code",
   "execution_count": 185,
   "id": "053b8aa1-0801-463f-af3c-44f8b21dc56d",
   "metadata": {
    "tags": []
   },
   "outputs": [],
   "source": [
    "current = current[features]"
   ]
  },
  {
   "cell_type": "code",
   "execution_count": 187,
   "id": "14a9658c-83f0-456c-9220-418c6d6e3307",
   "metadata": {
    "tags": []
   },
   "outputs": [
    {
     "data": {
      "text/plain": [
       "array([24.06691286, 23.68360069, 23.5290683 , 20.36911909, 23.52753968,\n",
       "       20.82042213, 21.08491509, 20.84383679, 24.08627394, 24.95484033,\n",
       "       20.41759812, 20.42846776, 21.14916662, 20.35972439, 20.22469345,\n",
       "       23.59418061, 23.0432984 , 18.40142935, 20.42213629, 23.57296643,\n",
       "       23.15911561, 21.57272687, 22.88812088, 21.74987617, 23.92708155,\n",
       "       23.21227725, 21.20443496, 20.69633609, 20.42846776, 20.60260085,\n",
       "       22.53050697, 23.30348414, 23.0432984 , 20.84495811, 24.18672464,\n",
       "       21.93275995, 24.89384361, 22.23373779, 19.50081828, 21.21512151,\n",
       "       20.63583956, 21.30773428, 23.75820596, 22.10124825, 23.68365559,\n",
       "       24.31423941, 19.65997409, 20.84495811, 21.5027107 , 19.10186517,\n",
       "       22.27791096, 19.81568231, 23.68068643, 23.31698423, 19.82791916,\n",
       "       21.28932487, 21.45084194, 23.81900872, 25.09868876, 22.39722868,\n",
       "       21.62712864, 20.15953354, 23.51088305, 20.07850131, 22.15376127,\n",
       "       24.59675589, 22.07528327, 20.77392053, 20.49438949, 22.56940939,\n",
       "       23.49468598, 18.65216234, 20.44980599, 21.74271623, 25.1848776 ,\n",
       "       21.5602574 , 23.38207507, 23.08749649, 20.58821405, 20.14616532,\n",
       "       20.04968674, 23.41895238, 21.43431263, 22.02182756, 21.63875506,\n",
       "       21.16391329, 23.55292841, 21.07569696, 26.15153903, 23.8916259 ,\n",
       "       23.10855153, 21.81336447, 21.75220326, 21.47810533, 19.89408581,\n",
       "       23.07187746, 21.14949132, 23.34512805, 22.02730668, 21.53951533,\n",
       "       22.49392542, 24.28841606, 23.07994511, 20.26427824, 24.03044401,\n",
       "       23.01640568, 21.49053341, 23.45975908, 20.06187324, 21.10658654,\n",
       "       20.85246682, 21.57997104, 23.34512805, 20.95001468, 20.21424772,\n",
       "       20.94622852, 22.48995444, 22.07699745, 22.2069571 , 25.20986539])"
      ]
     },
     "execution_count": 187,
     "metadata": {},
     "output_type": "execute_result"
    }
   ],
   "source": [
    "OREB_pred = model.predict(current)\n",
    "OREB_pred"
   ]
  },
  {
   "cell_type": "code",
   "execution_count": 194,
   "id": "e6e6cda1-57fa-4855-9e32-56416b3a3563",
   "metadata": {
    "tags": []
   },
   "outputs": [],
   "source": [
    "FINAL = pd.read_csv('SpreadandTotalPredictions.csv')\n",
    "FINAL['OREB'] = OREB_pred"
   ]
  },
  {
   "cell_type": "code",
   "execution_count": 196,
   "id": "7fc09731-f43e-4ff7-9b29-6179941f6f75",
   "metadata": {
    "tags": []
   },
   "outputs": [
    {
     "data": {
      "text/html": [
       "<div>\n",
       "<style scoped>\n",
       "    .dataframe tbody tr th:only-of-type {\n",
       "        vertical-align: middle;\n",
       "    }\n",
       "\n",
       "    .dataframe tbody tr th {\n",
       "        vertical-align: top;\n",
       "    }\n",
       "\n",
       "    .dataframe thead th {\n",
       "        text-align: right;\n",
       "    }\n",
       "</style>\n",
       "<table border=\"1\" class=\"dataframe\">\n",
       "  <thead>\n",
       "    <tr style=\"text-align: right;\">\n",
       "      <th></th>\n",
       "      <th>Date</th>\n",
       "      <th>Away</th>\n",
       "      <th>Home</th>\n",
       "      <th>Spread</th>\n",
       "      <th>Total</th>\n",
       "      <th>OREB</th>\n",
       "    </tr>\n",
       "  </thead>\n",
       "  <tbody>\n",
       "    <tr>\n",
       "      <th>0</th>\n",
       "      <td>3/7/2025</td>\n",
       "      <td>Cleveland Cavaliers</td>\n",
       "      <td>Charlotte Hornets</td>\n",
       "      <td>-14.493287</td>\n",
       "      <td>229.746583</td>\n",
       "      <td>24.066913</td>\n",
       "    </tr>\n",
       "    <tr>\n",
       "      <th>1</th>\n",
       "      <td>3/7/2025</td>\n",
       "      <td>Memphis Grizzlies</td>\n",
       "      <td>Dallas Mavericks</td>\n",
       "      <td>3.058359</td>\n",
       "      <td>229.911428</td>\n",
       "      <td>23.683601</td>\n",
       "    </tr>\n",
       "    <tr>\n",
       "      <th>2</th>\n",
       "      <td>3/7/2025</td>\n",
       "      <td>Utah Jazz</td>\n",
       "      <td>Toronto Raptors</td>\n",
       "      <td>2.380206</td>\n",
       "      <td>240.598056</td>\n",
       "      <td>23.529068</td>\n",
       "    </tr>\n",
       "    <tr>\n",
       "      <th>3</th>\n",
       "      <td>3/7/2025</td>\n",
       "      <td>Minnesota Timberwolves</td>\n",
       "      <td>Miami Heat</td>\n",
       "      <td>-0.611541</td>\n",
       "      <td>221.185735</td>\n",
       "      <td>20.369119</td>\n",
       "    </tr>\n",
       "    <tr>\n",
       "      <th>4</th>\n",
       "      <td>3/7/2025</td>\n",
       "      <td>Portland Trail Blazers</td>\n",
       "      <td>Oklahoma City Thunder</td>\n",
       "      <td>10.276441</td>\n",
       "      <td>224.966940</td>\n",
       "      <td>23.527540</td>\n",
       "    </tr>\n",
       "  </tbody>\n",
       "</table>\n",
       "</div>"
      ],
      "text/plain": [
       "       Date                    Away                   Home     Spread  \\\n",
       "0  3/7/2025     Cleveland Cavaliers      Charlotte Hornets -14.493287   \n",
       "1  3/7/2025       Memphis Grizzlies       Dallas Mavericks   3.058359   \n",
       "2  3/7/2025               Utah Jazz        Toronto Raptors   2.380206   \n",
       "3  3/7/2025  Minnesota Timberwolves             Miami Heat  -0.611541   \n",
       "4  3/7/2025  Portland Trail Blazers  Oklahoma City Thunder  10.276441   \n",
       "\n",
       "        Total       OREB  \n",
       "0  229.746583  24.066913  \n",
       "1  229.911428  23.683601  \n",
       "2  240.598056  23.529068  \n",
       "3  221.185735  20.369119  \n",
       "4  224.966940  23.527540  "
      ]
     },
     "execution_count": 196,
     "metadata": {},
     "output_type": "execute_result"
    }
   ],
   "source": [
    "FINAL.head()"
   ]
  },
  {
   "cell_type": "code",
   "execution_count": 197,
   "id": "087087b3-892f-4b68-b2aa-9f01c833ad38",
   "metadata": {
    "tags": []
   },
   "outputs": [],
   "source": [
    "FINAL.to_csv('Predictions.csv')"
   ]
  },
  {
   "cell_type": "code",
   "execution_count": 163,
   "id": "d62a350b-90d4-45dd-9361-f7970d87ad5b",
   "metadata": {
    "tags": []
   },
   "outputs": [],
   "source": [
    "from sklearn.ensemble import RandomForestRegressor"
   ]
  },
  {
   "cell_type": "code",
   "execution_count": 164,
   "id": "3ade71b8-8b82-4569-b038-4c428df63d55",
   "metadata": {
    "tags": []
   },
   "outputs": [
    {
     "name": "stdout",
     "output_type": "stream",
     "text": [
      "Mean Absolute Error: 10.485523385300668\n"
     ]
    }
   ],
   "source": [
    "rfr = RandomForestRegressor(n_estimators=100, criterion='absolute_error', random_state=42, n_jobs=-1)\n",
    "rfr.fit(X_train, y_train)\n",
    "\n",
    "y_pred = rfr.predict(X_test)\n",
    "\n",
    "mae = mean_absolute_error(y_test, y_pred)\n",
    "\n",
    "print(\"Mean Absolute Error:\", mae)"
   ]
  },
  {
   "cell_type": "code",
   "execution_count": 165,
   "id": "ae71c47b-8c55-4476-82ff-19f4194aa9f5",
   "metadata": {
    "tags": []
   },
   "outputs": [
    {
     "data": {
      "text/plain": [
       "H_WIN_PCT               0.047653\n",
       "closing_spread          0.021599\n",
       "SPREAD_matchup_last5    0.016352\n",
       "A_WIN_PCT               0.015619\n",
       "A_PLUS_MINUS_AVG_10     0.010928\n",
       "A_NetRtg_AVG_10         0.010917\n",
       "H_PIE_AVG_10            0.008423\n",
       "A_BLK_MOMENTUM          0.007580\n",
       "A_FG3A_MOMENTUM         0.007475\n",
       "A_STL_MOMENTUM          0.007450\n",
       "H_BLK_MOMENTUM          0.007424\n",
       "A_PIE_AVG_10            0.007371\n",
       "A_PIE_AVG_5             0.007248\n",
       "H_FG3A_MOMENTUM         0.007159\n",
       "H_AST._AVG_10           0.007140\n",
       "A_FT_PCT_MOMENTUM       0.007017\n",
       "H_OREB_MOMENTUM         0.007008\n",
       "H_PACE_MOMENTUM         0.006989\n",
       "A_FG3_PCT_AVG_10        0.006968\n",
       "H_AST._MOMENTUM         0.006963\n",
       "A_FT_PCT_AVG_5          0.006936\n",
       "A_FG3_PCT_MOMENTUM      0.006909\n",
       "H_FT_PCT_AVG_10         0.006894\n",
       "A_AST._AVG_5            0.006839\n",
       "A_AST._MOMENTUM         0.006795\n",
       "H_AST_MOMENTUM          0.006770\n",
       "A_PF_MOMENTUM           0.006769\n",
       "A_REB._MOMENTUM         0.006704\n",
       "TOTAL_matchup_last5     0.006704\n",
       "H_NetRtg_AVG_10         0.006649\n",
       "H_PF_MOMENTUM           0.006648\n",
       "A_FG3A_AVG_10           0.006646\n",
       "H_FG3_PCT_AVG_10        0.006632\n",
       "A_FT_PCT_AVG_10         0.006597\n",
       "H_FGA_MOMENTUM          0.006509\n",
       "H_FT_PCT_MOMENTUM       0.006460\n",
       "H_FTA_MOMENTUM          0.006451\n",
       "H_REB._AVG_10           0.006414\n",
       "H_FTM_MOMENTUM          0.006387\n",
       "A_PACE_AVG_10           0.006306\n",
       "A_DREB_MOMENTUM         0.006299\n",
       "H_PF_AVG_10             0.006268\n",
       "A_PF_AVG_10             0.006232\n",
       "H_STL_MOMENTUM          0.006190\n",
       "H_FG3_PCT_MOMENTUM      0.006173\n",
       "A_FG3_PCT_AVG_5         0.006163\n",
       "OREB_matchup_last5      0.006139\n",
       "A_PACE_MOMENTUM         0.006128\n",
       "A_FGA_MOMENTUM          0.006125\n",
       "H_DREB_MOMENTUM         0.006101\n",
       "dtype: float64"
      ]
     },
     "execution_count": 165,
     "metadata": {},
     "output_type": "execute_result"
    }
   ],
   "source": [
    "pd.Series(rfr.feature_importances_, index=features).nlargest(50)"
   ]
  },
  {
   "cell_type": "code",
   "execution_count": 151,
   "id": "4f0dba15-7d06-43ac-b86f-5b7d42fd52d8",
   "metadata": {
    "tags": []
   },
   "outputs": [],
   "source": [
    "from xgboost import XGBRegressor"
   ]
  },
  {
   "cell_type": "code",
   "execution_count": 152,
   "id": "ec815087-254d-4bd4-8bbd-c1d16b878f0f",
   "metadata": {
    "tags": []
   },
   "outputs": [
    {
     "name": "stdout",
     "output_type": "stream",
     "text": [
      "Mean Absolute Error: 4.042294580846162\n"
     ]
    }
   ],
   "source": [
    "xgb = XGBRegressor(n_estimators=100, learning_rate=0.1, objective=\"reg:absoluteerror\", random_state=42)\n",
    "xgb.fit(X_train, y_train)\n",
    "\n",
    "y_pred_xgb = xgb.predict(X_test)\n",
    "\n",
    "mae_xgb = mean_absolute_error(y_test, y_pred_xgb)\n",
    "print(\"Mean Absolute Error:\", mae_xgb)"
   ]
  },
  {
   "cell_type": "code",
   "execution_count": 21,
   "id": "5f77456e-a260-472c-8ae2-129c27ceb9cc",
   "metadata": {},
   "outputs": [],
   "source": [
    "from sklearn.ensemble import AdaBoostRegressor\n",
    "from sklearn.tree import DecisionTreeRegressor"
   ]
  },
  {
   "cell_type": "code",
   "execution_count": 23,
   "id": "74e9b7ea-d8a9-45f5-a7d7-98b61ade5d91",
   "metadata": {
    "tags": []
   },
   "outputs": [
    {
     "name": "stdout",
     "output_type": "stream",
     "text": [
      "Best MAE: 4.135857461024499\n"
     ]
    }
   ],
   "source": [
    "base = DecisionTreeRegressor(max_depth=len(features))\n",
    "\n",
    "# Define AdaBoost model\n",
    "adaboost = AdaBoostRegressor(estimator=base, n_estimators=50, random_state=42)\n",
    "\n",
    "adaboost.fit(X_train, y_train)\n",
    "y_pred = adaboost.predict(X_test)\n",
    "\n",
    "\n",
    "print(\"Best MAE:\", mean_absolute_error(y_test, y_pred))  # Convert back from negative MAE\n"
   ]
  },
  {
   "cell_type": "code",
   "execution_count": null,
   "id": "34f2538e-8f43-40bc-8bcc-4efe0d61cb1c",
   "metadata": {},
   "outputs": [],
   "source": []
  }
 ],
 "metadata": {
  "kernelspec": {
   "display_name": "Python 3 (ipykernel)",
   "language": "python",
   "name": "python3"
  },
  "language_info": {
   "codemirror_mode": {
    "name": "ipython",
    "version": 3
   },
   "file_extension": ".py",
   "mimetype": "text/x-python",
   "name": "python",
   "nbconvert_exporter": "python",
   "pygments_lexer": "ipython3",
   "version": "3.11.5"
  }
 },
 "nbformat": 4,
 "nbformat_minor": 5
}
